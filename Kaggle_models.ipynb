{
 "cells": [
  {
   "cell_type": "markdown",
   "metadata": {},
   "source": [
    "####Right now, I have respectable incomes, but  credit utilization(600),  and late days(269) and debtRatio have suspicious values. \n",
    "  - once I have clean values for all, I can engineer more features, namely monthly debt payments \n",
    "  "
   ]
  },
  {
   "cell_type": "code",
   "execution_count": 1,
   "metadata": {
    "collapsed": false
   },
   "outputs": [],
   "source": [
    "import pandas as pd\n",
    "train_income = pd.read_table('train_clean.csv', sep=',', index_col='id')\n",
    "test_income = pd.read_table('test_clean.csv', sep=',', index_col='id')"
   ]
  },
  {
   "cell_type": "code",
   "execution_count": 3,
   "metadata": {
    "collapsed": false
   },
   "outputs": [
    {
     "data": {
      "text/plain": [
       "(150000, 1)"
      ]
     },
     "execution_count": 3,
     "metadata": {},
     "output_type": "execute_result"
    }
   ],
   "source": [
    "train_income.shape"
   ]
  },
  {
   "cell_type": "code",
   "execution_count": 2,
   "metadata": {
    "collapsed": false
   },
   "outputs": [],
   "source": [
    "user_cols = ['dlq' , 'credit_utilization', 'age', 'past_30', 'debtratio', \n",
    "             'income', 'credit_lines', 'past_90', 'home_lines',\n",
    "             'past_60', 'dep_count']\n",
    "  \n",
    "training = pd.read_table('cs-training.csv', sep=',', header=False, names=user_cols)\n",
    "#read file, changed index, changed names\n",
    " \n",
    "test = pd.read_table('cs-test.csv', sep = ',', header=False, names=user_cols)"
   ]
  },
  {
   "cell_type": "code",
   "execution_count": 3,
   "metadata": {
    "collapsed": false
   },
   "outputs": [],
   "source": [
    "training.income = train_income.income"
   ]
  },
  {
   "cell_type": "code",
   "execution_count": 4,
   "metadata": {
    "collapsed": true
   },
   "outputs": [],
   "source": [
    "test.income = test_income.income"
   ]
  },
  {
   "cell_type": "code",
   "execution_count": 5,
   "metadata": {
    "collapsed": false
   },
   "outputs": [],
   "source": [
    "from sklearn.preprocessing import Imputer\n",
    "imp = Imputer(missing_values='NaN', strategy='most_frequent', axis=1)\n",
    "training['dep_count'] = imp.fit_transform(training.dep_count).T\n",
    "test['dep_count'] = imp.fit_transform(test.dep_count).T\n",
    "\n"
   ]
  },
  {
   "cell_type": "code",
   "execution_count": 6,
   "metadata": {
    "collapsed": true
   },
   "outputs": [],
   "source": [
    "import numpy as np\n",
    "\n",
    "def take_log(n):\n",
    "    return np.log(n)\n",
    "\n",
    "training['lnCredit'] = training.credit_utilization.replace(to_replace=0, value = 0.1).apply(take_log)\n",
    "test['lnCredit'] = test.credit_utilization.replace(to_replace=0, value = 0.1).apply(take_log)\n",
    "\n",
    "training['lnDR'] = training.debtratio.replace(to_replace=0, value = 0.1).apply(take_log)\n",
    "test['lnDR'] = test.debtratio.replace(to_replace=0, value = 0.1).apply(take_log)\n",
    "\n",
    "training['ln30'] = training.past_30.replace(to_replace=0, value = 0.1).apply(take_log)\n",
    "training['ln60'] = training.past_60.replace(to_replace=0, value = 0.1).apply(take_log)\n",
    "training['ln90'] = training.past_90.replace(to_replace=0, value = 0.1).apply(take_log)\n",
    "\n",
    "test['ln30'] = test.past_30.replace(to_replace=0, value = 0.1).apply(take_log)\n",
    "test['ln60'] = test.past_60.replace(to_replace=0, value = 0.1).apply(take_log)\n",
    "test['ln90'] = test.past_90.replace(to_replace=0, value = 0.1).apply(take_log)\n",
    "\n",
    "training['lnCreditlines'] = training.credit_lines.replace(to_replace=0, value = 0.1).apply(take_log)\n",
    "test['lnCreditlines'] = test.credit_lines.replace(to_replace=0, value = 0.1).apply(take_log)\n",
    "\n",
    "training['lnincome'] = training.income.replace(to_replace=0, value = 0.1).apply(take_log)"
   ]
  },
  {
   "cell_type": "code",
   "execution_count": 7,
   "metadata": {
    "collapsed": false
   },
   "outputs": [],
   "source": [
    "test['lnincome'] = test.income.replace(to_replace=0, value = 0.1).apply(take_log)"
   ]
  },
  {
   "cell_type": "code",
   "execution_count": 9,
   "metadata": {
    "collapsed": false
   },
   "outputs": [
    {
     "ename": "NameError",
     "evalue": "name 'train_ii' is not defined",
     "output_type": "error",
     "traceback": [
      "\u001b[0;31m---------------------------------------------------------------------------\u001b[0m",
      "\u001b[0;31mNameError\u001b[0m                                 Traceback (most recent call last)",
      "\u001b[0;32m<ipython-input-9-fbbe09626ab6>\u001b[0m in \u001b[0;36m<module>\u001b[0;34m()\u001b[0m\n\u001b[1;32m      1\u001b[0m \u001b[0;32mimport\u001b[0m \u001b[0mseaborn\u001b[0m \u001b[0;32mas\u001b[0m \u001b[0msns\u001b[0m\u001b[0;34m\u001b[0m\u001b[0m\n\u001b[1;32m      2\u001b[0m \u001b[0mget_ipython\u001b[0m\u001b[0;34m(\u001b[0m\u001b[0;34m)\u001b[0m\u001b[0;34m.\u001b[0m\u001b[0mmagic\u001b[0m\u001b[0;34m(\u001b[0m\u001b[0;34mu'matplotlib inline'\u001b[0m\u001b[0;34m)\u001b[0m\u001b[0;34m\u001b[0m\u001b[0m\n\u001b[0;32m----> 3\u001b[0;31m \u001b[0msns\u001b[0m\u001b[0;34m.\u001b[0m\u001b[0mheatmap\u001b[0m\u001b[0;34m(\u001b[0m\u001b[0mtrain_ii\u001b[0m\u001b[0;34m.\u001b[0m\u001b[0mcorr\u001b[0m\u001b[0;34m(\u001b[0m\u001b[0;34m)\u001b[0m\u001b[0;34m)\u001b[0m\u001b[0;34m\u001b[0m\u001b[0m\n\u001b[0m",
      "\u001b[0;31mNameError\u001b[0m: name 'train_ii' is not defined"
     ]
    }
   ],
   "source": [
    "import seaborn as sns\n",
    "%matplotlib inline\n",
    "sns.heatmap(train_ii.corr())"
   ]
  },
  {
   "cell_type": "code",
   "execution_count": 8,
   "metadata": {
    "collapsed": false
   },
   "outputs": [],
   "source": [
    "test_sane_late_days = test[test.past_30 < 50]\n",
    "test_insane_late_days = test[test.past_30 > 50 ]\n",
    "\n",
    "train_sane_late_days = training[training.past_30 < 50]\n",
    "train_insane_late_days = training[training.past_30 > 50 ]"
   ]
  },
  {
   "cell_type": "code",
   "execution_count": 9,
   "metadata": {
    "collapsed": false
   },
   "outputs": [
    {
     "name": "stderr",
     "output_type": "stream",
     "text": [
      "/anaconda/lib/python2.7/site-packages/IPython/kernel/__main__.py:1: SettingWithCopyWarning: \n",
      "A value is trying to be set on a copy of a slice from a DataFrame.\n",
      "Try using .loc[row_indexer,col_indexer] = value instead\n",
      "\n",
      "See the the caveats in the documentation: http://pandas.pydata.org/pandas-docs/stable/indexing.html#indexing-view-versus-copy\n",
      "  if __name__ == '__main__':\n"
     ]
    }
   ],
   "source": [
    "train_sane_late_days['total_late_days'] = train_sane_late_days.past_30 + train_sane_late_days.past_60 + train_sane_late_days.past_90 "
   ]
  },
  {
   "cell_type": "code",
   "execution_count": 10,
   "metadata": {
    "collapsed": false
   },
   "outputs": [
    {
     "name": "stderr",
     "output_type": "stream",
     "text": [
      "/anaconda/lib/python2.7/site-packages/IPython/kernel/__main__.py:1: SettingWithCopyWarning: \n",
      "A value is trying to be set on a copy of a slice from a DataFrame.\n",
      "Try using .loc[row_indexer,col_indexer] = value instead\n",
      "\n",
      "See the the caveats in the documentation: http://pandas.pydata.org/pandas-docs/stable/indexing.html#indexing-view-versus-copy\n",
      "  if __name__ == '__main__':\n"
     ]
    }
   ],
   "source": [
    "train_sane_late_days['lntotallate'] = train_sane_late_days.total_late_days.replace(to_replace=0, value = 0.1).apply(take_log)\n",
    "\n"
   ]
  },
  {
   "cell_type": "code",
   "execution_count": 11,
   "metadata": {
    "collapsed": false
   },
   "outputs": [
    {
     "data": {
      "text/plain": [
       "<matplotlib.axes._subplots.AxesSubplot at 0x10969ba90>"
      ]
     },
     "execution_count": 11,
     "metadata": {},
     "output_type": "execute_result"
    }
   ],
   "source": [
    "import seaborn as sns\n",
    "\n",
    "sns.heatmap(train_sane_late_days.corr())"
   ]
  },
  {
   "cell_type": "code",
   "execution_count": 12,
   "metadata": {
    "collapsed": false
   },
   "outputs": [
    {
     "data": {
      "text/plain": [
       "RandomForestRegressor(bootstrap=True, compute_importances=None,\n",
       "           criterion='mse', max_depth=None, max_features=8,\n",
       "           max_leaf_nodes=None, min_density=None, min_samples_leaf=1,\n",
       "           min_samples_split=2, n_estimators=150, n_jobs=1, oob_score=True,\n",
       "           random_state=1, verbose=0)"
      ]
     },
     "execution_count": 12,
     "metadata": {},
     "output_type": "execute_result"
    }
   ],
   "source": [
    "from sklearn import metrics\n",
    "from sklearn.cross_validation import train_test_split\n",
    "from sklearn.ensemble import RandomForestRegressor\n",
    "\n",
    "X = train_sane_late_days[['credit_utilization', 'age', 'debtratio', 'income', 'credit_lines', 'home_lines', 'dep_count', \n",
    "                        'lnCredit', 'lnDR', 'lnCreditlines', 'lnincome']]\n",
    "y = train_sane_late_days.total_late_days\n",
    "\n",
    "X_train, X_test, y_train, y_test = train_test_split(X, y, random_state=1)\n",
    "\n",
    "rfreg = RandomForestRegressor(n_estimators=150, max_features=8, oob_score=True, random_state=1)\n",
    "rfreg.fit(X_train, y_train)"
   ]
  },
  {
   "cell_type": "code",
   "execution_count": 13,
   "metadata": {
    "collapsed": false
   },
   "outputs": [
    {
     "name": "stdout",
     "output_type": "stream",
     "text": [
      "1.01954209248\n"
     ]
    }
   ],
   "source": [
    "#old is ypred class\n",
    "y_pred = rfreg.predict(X_test)\n",
    "\n",
    "print np.sqrt( metrics.mean_squared_error(y_test, y_pred))"
   ]
  },
  {
   "cell_type": "code",
   "execution_count": 14,
   "metadata": {
    "collapsed": false
   },
   "outputs": [],
   "source": [
    "rfreg.fit(X, y)\n",
    "\n",
    "X_impute = train_insane_late_days[['credit_utilization', 'age', 'debtratio', 'income', 'credit_lines', 'home_lines', 'dep_count', \n",
    "                        'lnCredit', 'lnDR', 'lnCreditlines', 'lnincome']]\n",
    "\n",
    "impute_pred = rfreg.predict(X_impute)"
   ]
  },
  {
   "cell_type": "code",
   "execution_count": 15,
   "metadata": {
    "collapsed": false
   },
   "outputs": [
    {
     "name": "stderr",
     "output_type": "stream",
     "text": [
      "/anaconda/lib/python2.7/site-packages/IPython/kernel/__main__.py:1: SettingWithCopyWarning: \n",
      "A value is trying to be set on a copy of a slice from a DataFrame.\n",
      "Try using .loc[row_indexer,col_indexer] = value instead\n",
      "\n",
      "See the the caveats in the documentation: http://pandas.pydata.org/pandas-docs/stable/indexing.html#indexing-view-versus-copy\n",
      "  if __name__ == '__main__':\n"
     ]
    }
   ],
   "source": [
    "train_insane_late_days['total_late_days'] = impute_pred"
   ]
  },
  {
   "cell_type": "code",
   "execution_count": 16,
   "metadata": {
    "collapsed": false
   },
   "outputs": [],
   "source": [
    "train = pd.concat([train_sane_late_days, train_insane_late_days])"
   ]
  },
  {
   "cell_type": "code",
   "execution_count": 93,
   "metadata": {
    "collapsed": false
   },
   "outputs": [
    {
     "data": {
      "text/plain": [
       "age                     0\n",
       "credit_lines            0\n",
       "credit_utilization      0\n",
       "debtratio               0\n",
       "dep_count               0\n",
       "dlq                     0\n",
       "home_lines              0\n",
       "income                  0\n",
       "ln30                    0\n",
       "ln60                    0\n",
       "ln90                    0\n",
       "lnCredit                0\n",
       "lnCreditlines           0\n",
       "lnDR                    0\n",
       "lnincome                0\n",
       "lntotallate           269\n",
       "past_30                 0\n",
       "past_60                 0\n",
       "past_90                 0\n",
       "total_late_days         0\n",
       "dtype: int64"
      ]
     },
     "execution_count": 93,
     "metadata": {},
     "output_type": "execute_result"
    }
   ],
   "source": [
    "train.isnull().sum()"
   ]
  },
  {
   "cell_type": "markdown",
   "metadata": {},
   "source": [
    "###At this point incomes, and late days are fixed, now onto fixing other features, creating features, clustering borrowers, and ultimately running some models. "
   ]
  },
  {
   "cell_type": "code",
   "execution_count": 67,
   "metadata": {
    "collapsed": false
   },
   "outputs": [
    {
     "data": {
      "text/html": [
       "<div>\n",
       "<table border=\"1\" class=\"dataframe\">\n",
       "  <thead>\n",
       "    <tr style=\"text-align: right;\">\n",
       "      <th></th>\n",
       "      <th>age</th>\n",
       "      <th>credit_lines</th>\n",
       "      <th>credit_utilization</th>\n",
       "      <th>debtratio</th>\n",
       "      <th>dep_count</th>\n",
       "      <th>dlq</th>\n",
       "      <th>home_lines</th>\n",
       "      <th>income</th>\n",
       "      <th>ln30</th>\n",
       "      <th>ln60</th>\n",
       "      <th>ln90</th>\n",
       "      <th>lnCredit</th>\n",
       "      <th>lnCreditlines</th>\n",
       "      <th>lnDR</th>\n",
       "      <th>lnincome</th>\n",
       "      <th>lntotallate</th>\n",
       "      <th>past_30</th>\n",
       "      <th>past_60</th>\n",
       "      <th>past_90</th>\n",
       "      <th>total_late_days</th>\n",
       "    </tr>\n",
       "  </thead>\n",
       "  <tbody>\n",
       "    <tr>\n",
       "      <th>1</th>\n",
       "      <td>45</td>\n",
       "      <td>13</td>\n",
       "      <td>0.766127</td>\n",
       "      <td>0.802982</td>\n",
       "      <td>2</td>\n",
       "      <td>1</td>\n",
       "      <td>6</td>\n",
       "      <td>9120</td>\n",
       "      <td>0.693147</td>\n",
       "      <td>-2.302585</td>\n",
       "      <td>-2.302585</td>\n",
       "      <td>-0.266408</td>\n",
       "      <td>2.564949</td>\n",
       "      <td>-0.219423</td>\n",
       "      <td>9.118225</td>\n",
       "      <td>0.693147</td>\n",
       "      <td>2</td>\n",
       "      <td>0</td>\n",
       "      <td>0</td>\n",
       "      <td>2</td>\n",
       "    </tr>\n",
       "    <tr>\n",
       "      <th>2</th>\n",
       "      <td>40</td>\n",
       "      <td>4</td>\n",
       "      <td>0.957151</td>\n",
       "      <td>0.121876</td>\n",
       "      <td>1</td>\n",
       "      <td>0</td>\n",
       "      <td>0</td>\n",
       "      <td>2600</td>\n",
       "      <td>-2.302585</td>\n",
       "      <td>-2.302585</td>\n",
       "      <td>-2.302585</td>\n",
       "      <td>-0.043794</td>\n",
       "      <td>1.386294</td>\n",
       "      <td>-2.104749</td>\n",
       "      <td>7.863267</td>\n",
       "      <td>-2.302585</td>\n",
       "      <td>0</td>\n",
       "      <td>0</td>\n",
       "      <td>0</td>\n",
       "      <td>0</td>\n",
       "    </tr>\n",
       "    <tr>\n",
       "      <th>3</th>\n",
       "      <td>38</td>\n",
       "      <td>2</td>\n",
       "      <td>0.658180</td>\n",
       "      <td>0.085113</td>\n",
       "      <td>0</td>\n",
       "      <td>0</td>\n",
       "      <td>0</td>\n",
       "      <td>3042</td>\n",
       "      <td>0.000000</td>\n",
       "      <td>-2.302585</td>\n",
       "      <td>0.000000</td>\n",
       "      <td>-0.418277</td>\n",
       "      <td>0.693147</td>\n",
       "      <td>-2.463771</td>\n",
       "      <td>8.020270</td>\n",
       "      <td>0.693147</td>\n",
       "      <td>1</td>\n",
       "      <td>0</td>\n",
       "      <td>1</td>\n",
       "      <td>2</td>\n",
       "    </tr>\n",
       "    <tr>\n",
       "      <th>4</th>\n",
       "      <td>30</td>\n",
       "      <td>5</td>\n",
       "      <td>0.233810</td>\n",
       "      <td>0.036050</td>\n",
       "      <td>0</td>\n",
       "      <td>0</td>\n",
       "      <td>0</td>\n",
       "      <td>3300</td>\n",
       "      <td>-2.302585</td>\n",
       "      <td>-2.302585</td>\n",
       "      <td>-2.302585</td>\n",
       "      <td>-1.453247</td>\n",
       "      <td>1.609438</td>\n",
       "      <td>-3.322857</td>\n",
       "      <td>8.101678</td>\n",
       "      <td>-2.302585</td>\n",
       "      <td>0</td>\n",
       "      <td>0</td>\n",
       "      <td>0</td>\n",
       "      <td>0</td>\n",
       "    </tr>\n",
       "    <tr>\n",
       "      <th>5</th>\n",
       "      <td>49</td>\n",
       "      <td>7</td>\n",
       "      <td>0.907239</td>\n",
       "      <td>0.024926</td>\n",
       "      <td>0</td>\n",
       "      <td>0</td>\n",
       "      <td>1</td>\n",
       "      <td>63588</td>\n",
       "      <td>0.000000</td>\n",
       "      <td>-2.302585</td>\n",
       "      <td>-2.302585</td>\n",
       "      <td>-0.097349</td>\n",
       "      <td>1.945910</td>\n",
       "      <td>-3.691856</td>\n",
       "      <td>11.060180</td>\n",
       "      <td>0.000000</td>\n",
       "      <td>1</td>\n",
       "      <td>0</td>\n",
       "      <td>0</td>\n",
       "      <td>1</td>\n",
       "    </tr>\n",
       "  </tbody>\n",
       "</table>\n",
       "</div>"
      ],
      "text/plain": [
       "   age  credit_lines  credit_utilization  debtratio  dep_count  dlq  \\\n",
       "1   45            13            0.766127   0.802982          2    1   \n",
       "2   40             4            0.957151   0.121876          1    0   \n",
       "3   38             2            0.658180   0.085113          0    0   \n",
       "4   30             5            0.233810   0.036050          0    0   \n",
       "5   49             7            0.907239   0.024926          0    0   \n",
       "\n",
       "   home_lines  income      ln30      ln60      ln90  lnCredit  lnCreditlines  \\\n",
       "1           6    9120  0.693147 -2.302585 -2.302585 -0.266408       2.564949   \n",
       "2           0    2600 -2.302585 -2.302585 -2.302585 -0.043794       1.386294   \n",
       "3           0    3042  0.000000 -2.302585  0.000000 -0.418277       0.693147   \n",
       "4           0    3300 -2.302585 -2.302585 -2.302585 -1.453247       1.609438   \n",
       "5           1   63588  0.000000 -2.302585 -2.302585 -0.097349       1.945910   \n",
       "\n",
       "       lnDR   lnincome  lntotallate  past_30  past_60  past_90  \\\n",
       "1 -0.219423   9.118225     0.693147        2        0        0   \n",
       "2 -2.104749   7.863267    -2.302585        0        0        0   \n",
       "3 -2.463771   8.020270     0.693147        1        0        1   \n",
       "4 -3.322857   8.101678    -2.302585        0        0        0   \n",
       "5 -3.691856  11.060180     0.000000        1        0        0   \n",
       "\n",
       "   total_late_days  \n",
       "1                2  \n",
       "2                0  \n",
       "3                2  \n",
       "4                0  \n",
       "5                1  "
      ]
     },
     "execution_count": 67,
     "metadata": {},
     "output_type": "execute_result"
    }
   ],
   "source": [
    "train.head()"
   ]
  },
  {
   "cell_type": "code",
   "execution_count": 17,
   "metadata": {
    "collapsed": false
   },
   "outputs": [
    {
     "name": "stderr",
     "output_type": "stream",
     "text": [
      "/anaconda/lib/python2.7/site-packages/IPython/kernel/__main__.py:1: SettingWithCopyWarning: \n",
      "A value is trying to be set on a copy of a slice from a DataFrame.\n",
      "Try using .loc[row_indexer,col_indexer] = value instead\n",
      "\n",
      "See the the caveats in the documentation: http://pandas.pydata.org/pandas-docs/stable/indexing.html#indexing-view-versus-copy\n",
      "  if __name__ == '__main__':\n",
      "/anaconda/lib/python2.7/site-packages/IPython/kernel/__main__.py:3: SettingWithCopyWarning: \n",
      "A value is trying to be set on a copy of a slice from a DataFrame.\n",
      "Try using .loc[row_indexer,col_indexer] = value instead\n",
      "\n",
      "See the the caveats in the documentation: http://pandas.pydata.org/pandas-docs/stable/indexing.html#indexing-view-versus-copy\n",
      "  app.launch_new_instance()\n"
     ]
    }
   ],
   "source": [
    "test_sane_late_days['total_late_days'] = test_sane_late_days.past_30 + test_sane_late_days.past_60 + test_sane_late_days.past_90 \n",
    "\n",
    "test_sane_late_days['lntotallate'] = test_sane_late_days.total_late_days.replace(to_replace=0, value = 0.1).apply(take_log)"
   ]
  },
  {
   "cell_type": "code",
   "execution_count": 18,
   "metadata": {
    "collapsed": false
   },
   "outputs": [],
   "source": [
    "X = test_sane_late_days[['credit_utilization', 'age', 'debtratio', 'income', 'credit_lines', 'home_lines', 'dep_count', \n",
    "                        'lnCredit', 'lnDR', 'lnCreditlines', 'lnincome']]\n",
    "y = test_sane_late_days.total_late_days"
   ]
  },
  {
   "cell_type": "code",
   "execution_count": 19,
   "metadata": {
    "collapsed": false
   },
   "outputs": [
    {
     "data": {
      "text/plain": [
       "RandomForestRegressor(bootstrap=True, compute_importances=None,\n",
       "           criterion='mse', max_depth=None, max_features=8,\n",
       "           max_leaf_nodes=None, min_density=None, min_samples_leaf=1,\n",
       "           min_samples_split=2, n_estimators=150, n_jobs=1, oob_score=True,\n",
       "           random_state=1, verbose=0)"
      ]
     },
     "execution_count": 19,
     "metadata": {},
     "output_type": "execute_result"
    }
   ],
   "source": [
    "rfreg.fit(X, y)"
   ]
  },
  {
   "cell_type": "code",
   "execution_count": 20,
   "metadata": {
    "collapsed": false
   },
   "outputs": [],
   "source": [
    "X_impute = test_insane_late_days[['credit_utilization', 'age', 'debtratio', 'income', 'credit_lines', 'home_lines', 'dep_count', \n",
    "                        'lnCredit', 'lnDR', 'lnCreditlines', 'lnincome']]\n",
    "\n",
    "impute_pred = rfreg.predict(X_impute)"
   ]
  },
  {
   "cell_type": "code",
   "execution_count": 21,
   "metadata": {
    "collapsed": false
   },
   "outputs": [
    {
     "name": "stderr",
     "output_type": "stream",
     "text": [
      "/anaconda/lib/python2.7/site-packages/IPython/kernel/__main__.py:1: SettingWithCopyWarning: \n",
      "A value is trying to be set on a copy of a slice from a DataFrame.\n",
      "Try using .loc[row_indexer,col_indexer] = value instead\n",
      "\n",
      "See the the caveats in the documentation: http://pandas.pydata.org/pandas-docs/stable/indexing.html#indexing-view-versus-copy\n",
      "  if __name__ == '__main__':\n"
     ]
    }
   ],
   "source": [
    "test_insane_late_days['total_late_days'] = impute_pred\n",
    "test_i = pd.concat([test_sane_late_days, test_insane_late_days])"
   ]
  },
  {
   "cell_type": "code",
   "execution_count": 22,
   "metadata": {
    "collapsed": false
   },
   "outputs": [],
   "source": [
    "train['lntotallate'] = train.total_late_days.replace(to_replace=0, value = 0.1).apply(take_log)\n",
    "test_i['lntotallate'] = test_i.total_late_days.replace(to_replace=0, value = 0.1).apply(take_log)\n"
   ]
  },
  {
   "cell_type": "markdown",
   "metadata": {},
   "source": [
    "Imputed everything in test and train"
   ]
  },
  {
   "cell_type": "code",
   "execution_count": 23,
   "metadata": {
    "collapsed": false
   },
   "outputs": [],
   "source": [
    "test_saneCU = test_i[test_i.credit_utilization < 2.5]\n",
    "test_insaneCU = test_i[test_i.credit_utilization > 2.5]\n",
    "\n",
    "train_saneCU = train[train.credit_utilization < 2.5]\n",
    "train_insaneCU = train[train.credit_utilization > 2.5]"
   ]
  },
  {
   "cell_type": "code",
   "execution_count": 24,
   "metadata": {
    "collapsed": false
   },
   "outputs": [
    {
     "name": "stdout",
     "output_type": "stream",
     "text": [
      "0.285659120526\n"
     ]
    }
   ],
   "source": [
    "X = train_saneCU[['age', 'debtratio', 'income', 'dep_count', 'credit_lines', 'home_lines', 'dep_count', \n",
    "                        'lnDR', 'lnCreditlines', 'lnincome', 'lntotallate', 'total_late_days']]\n",
    "y = train_saneCU.credit_utilization\n",
    "\n",
    "X_train, X_test, y_train, y_test = train_test_split(X, y, random_state=1)\n",
    "\n",
    "rfreg = RandomForestRegressor(n_estimators=150, max_features=8, oob_score=True, random_state=1)\n",
    "rfreg.fit(X_train, y_train)\n",
    "\n",
    "y_pred = rfreg.predict(X_test)\n",
    "\n",
    "print np.sqrt( metrics.mean_squared_error(y_test, y_pred))"
   ]
  },
  {
   "cell_type": "code",
   "execution_count": 25,
   "metadata": {
    "collapsed": true
   },
   "outputs": [],
   "source": [
    "rfreg.fit(X, y)\n",
    "\n",
    "X_impute = train_insaneCU[['age', 'debtratio', 'income', 'dep_count', 'credit_lines', 'home_lines', 'dep_count', \n",
    "                        'lnDR', 'lnCreditlines', 'lnincome', 'lntotallate', 'total_late_days']]\n",
    "\n",
    "impute_pred = rfreg.predict(X_impute)"
   ]
  },
  {
   "cell_type": "code",
   "execution_count": 26,
   "metadata": {
    "collapsed": false
   },
   "outputs": [
    {
     "name": "stderr",
     "output_type": "stream",
     "text": [
      "/anaconda/lib/python2.7/site-packages/IPython/kernel/__main__.py:1: SettingWithCopyWarning: \n",
      "A value is trying to be set on a copy of a slice from a DataFrame.\n",
      "Try using .loc[row_indexer,col_indexer] = value instead\n",
      "\n",
      "See the the caveats in the documentation: http://pandas.pydata.org/pandas-docs/stable/indexing.html#indexing-view-versus-copy\n",
      "  if __name__ == '__main__':\n"
     ]
    }
   ],
   "source": [
    "train_insaneCU['credit_utilization'] = impute_pred\n",
    "train_ii = pd.concat([train_saneCU, train_insaneCU])"
   ]
  },
  {
   "cell_type": "code",
   "execution_count": 27,
   "metadata": {
    "collapsed": false
   },
   "outputs": [
    {
     "name": "stderr",
     "output_type": "stream",
     "text": [
      "/anaconda/lib/python2.7/site-packages/IPython/kernel/__main__.py:13: SettingWithCopyWarning: \n",
      "A value is trying to be set on a copy of a slice from a DataFrame.\n",
      "Try using .loc[row_indexer,col_indexer] = value instead\n",
      "\n",
      "See the the caveats in the documentation: http://pandas.pydata.org/pandas-docs/stable/indexing.html#indexing-view-versus-copy\n"
     ]
    }
   ],
   "source": [
    "\n",
    "X = test_saneCU[['age', 'debtratio', 'income', 'dep_count', 'credit_lines', 'home_lines', 'dep_count', \n",
    "                        'lnDR', 'lnCreditlines', 'lnincome', 'lntotallate', 'total_late_days']]\n",
    "y = test_saneCU.credit_utilization\n",
    "\n",
    "rfreg.fit(X, y)\n",
    "\n",
    "X_impute = test_insaneCU[['age', 'debtratio', 'income', 'dep_count', 'credit_lines', 'home_lines', 'dep_count', \n",
    "                        'lnDR', 'lnCreditlines', 'lnincome', 'lntotallate', 'total_late_days']]\n",
    "\n",
    "impute_pred = rfreg.predict(X_impute)\n",
    "\n",
    "test_insaneCU['credit_utilization'] = impute_pred\n",
    "test_ii = pd.concat([test_saneCU, test_insaneCU])"
   ]
  },
  {
   "cell_type": "code",
   "execution_count": 28,
   "metadata": {
    "collapsed": false
   },
   "outputs": [],
   "source": [
    "train_ii['lnCreditlines'] = train_ii.credit_lines.replace(to_replace=0, value = 0.1).apply(take_log)\n",
    "test_ii['lnCreditlines'] = test_ii.credit_lines.replace(to_replace=0, value = 0.1).apply(take_log)"
   ]
  },
  {
   "cell_type": "code",
   "execution_count": 29,
   "metadata": {
    "collapsed": true
   },
   "outputs": [],
   "source": [
    "train_ii['income'] = train_ii.income.replace(to_replace=0, value = 1)\n",
    "test_ii['income'] = test_ii.income.replace(to_replace=0, value = 1)"
   ]
  },
  {
   "cell_type": "code",
   "execution_count": 162,
   "metadata": {
    "collapsed": false
   },
   "outputs": [
    {
     "data": {
      "text/plain": [
       "count     101503.000000\n",
       "mean        5561.077229\n",
       "std        32812.266653\n",
       "min            0.003333\n",
       "25%         1816.500000\n",
       "50%         4408.000000\n",
       "75%         7392.000000\n",
       "max      7727000.000000\n",
       "Name: income, dtype: float64"
      ]
     },
     "execution_count": 162,
     "metadata": {},
     "output_type": "execute_result"
    }
   ],
   "source": [
    "test_ii.income.describe()"
   ]
  },
  {
   "cell_type": "code",
   "execution_count": 30,
   "metadata": {
    "collapsed": true
   },
   "outputs": [],
   "source": [
    "\n",
    "train_ii['expenses'] = train_ii.income * train_ii.debtratio\n",
    "test_ii['expenses'] = test_ii.income * test_ii.debtratio"
   ]
  },
  {
   "cell_type": "code",
   "execution_count": 31,
   "metadata": {
    "collapsed": false
   },
   "outputs": [],
   "source": [
    "train_ii['lnExpenses'] = train_ii.expenses.replace(to_replace=0, value = 0.1).apply(take_log)\n",
    "test_ii['lnExpenses'] = test_ii.expenses.replace(to_replace=0, value = 0.1).apply(take_log)"
   ]
  },
  {
   "cell_type": "code",
   "execution_count": 32,
   "metadata": {
    "collapsed": true
   },
   "outputs": [],
   "source": [
    "train_ii['expenses_2'] = train_ii.expenses ** 2\n",
    "test_ii['expenses_2'] = test_ii.expenses ** 2"
   ]
  },
  {
   "cell_type": "code",
   "execution_count": 33,
   "metadata": {
    "collapsed": false
   },
   "outputs": [],
   "source": [
    "train_ii['credit_limit'] = (train_ii.expenses.replace(to_replace=0, value = 1)\n",
    "                           ) / (train_ii.credit_utilization.replace(to_replace=0, value = 1))\n",
    "\n",
    "test_ii['credit_limit'] = (test_ii.expenses.replace(to_replace=0, value = 1)\n",
    "                          ) / (test_ii.credit_utilization.replace(to_replace=0, value = 1))"
   ]
  },
  {
   "cell_type": "code",
   "execution_count": 34,
   "metadata": {
    "collapsed": false
   },
   "outputs": [],
   "source": [
    "train_ii['lnlimit'] = train_ii.credit_limit.replace(to_replace=0, value = 0.1).apply(take_log)\n",
    "test_ii['lnlimit'] = test_ii.credit_limit.replace(to_replace=0, value = 0.1).apply(take_log)"
   ]
  },
  {
   "cell_type": "code",
   "execution_count": 35,
   "metadata": {
    "collapsed": true
   },
   "outputs": [],
   "source": [
    "train_ii['free_credit'] = (train_ii.credit_limit - train_ii.expenses)\n",
    "test_ii['free_credit'] = (train_ii.credit_limit - test_ii.expenses)"
   ]
  },
  {
   "cell_type": "code",
   "execution_count": 36,
   "metadata": {
    "collapsed": true
   },
   "outputs": [],
   "source": [
    "train_ii['lim_2'] = train_ii.credit_limit ** 2\n",
    "test_ii['lim_2'] = test_ii.credit_limit ** 2"
   ]
  },
  {
   "cell_type": "code",
   "execution_count": 37,
   "metadata": {
    "collapsed": true
   },
   "outputs": [],
   "source": [
    "train_ii['lnfree'] = train_ii.free_credit.replace(to_replace= [train_ii.free_credit <0.01], value = 0.1).apply(take_log)\n",
    "test_ii['lnfree'] = test_ii.free_credit.replace(to_replace= [test_ii.free_credit <0.01], value = 0.1).apply(take_log)"
   ]
  },
  {
   "cell_type": "code",
   "execution_count": 38,
   "metadata": {
    "collapsed": true
   },
   "outputs": [],
   "source": [
    "train_ii['savings'] = train_ii.income - train_ii.expenses\n",
    "test_ii['savings'] = test_ii.income - test_ii.expenses"
   ]
  },
  {
   "cell_type": "code",
   "execution_count": 211,
   "metadata": {
    "collapsed": false
   },
   "outputs": [
    {
     "data": {
      "text/html": [
       "<div>\n",
       "<table border=\"1\" class=\"dataframe\">\n",
       "  <thead>\n",
       "    <tr style=\"text-align: right;\">\n",
       "      <th></th>\n",
       "      <th>age</th>\n",
       "      <th>credit_lines</th>\n",
       "      <th>credit_utilization</th>\n",
       "      <th>debtratio</th>\n",
       "      <th>dep_count</th>\n",
       "      <th>dlq</th>\n",
       "      <th>home_lines</th>\n",
       "      <th>income</th>\n",
       "      <th>ln30</th>\n",
       "      <th>ln60</th>\n",
       "      <th>...</th>\n",
       "      <th>expenses</th>\n",
       "      <th>lnExpenses</th>\n",
       "      <th>expenses_2</th>\n",
       "      <th>credit_limit</th>\n",
       "      <th>lnlimit</th>\n",
       "      <th>free_credit</th>\n",
       "      <th>lim_2</th>\n",
       "      <th>lnfree</th>\n",
       "      <th>total_lines</th>\n",
       "      <th>savings</th>\n",
       "    </tr>\n",
       "  </thead>\n",
       "  <tbody>\n",
       "    <tr>\n",
       "      <th>count</th>\n",
       "      <td>275.000000</td>\n",
       "      <td>275.000000</td>\n",
       "      <td>275.000000</td>\n",
       "      <td>275.000000</td>\n",
       "      <td>275.000000</td>\n",
       "      <td>275</td>\n",
       "      <td>275.000000</td>\n",
       "      <td>275.000000</td>\n",
       "      <td>275.000000</td>\n",
       "      <td>275.000000</td>\n",
       "      <td>...</td>\n",
       "      <td>275.000000</td>\n",
       "      <td>275.000000</td>\n",
       "      <td>2.750000e+02</td>\n",
       "      <td>275.000000</td>\n",
       "      <td>275.000000</td>\n",
       "      <td>275.000000</td>\n",
       "      <td>2.750000e+02</td>\n",
       "      <td>224.000000</td>\n",
       "      <td>275.000000</td>\n",
       "      <td>275.000000</td>\n",
       "    </tr>\n",
       "    <tr>\n",
       "      <th>mean</th>\n",
       "      <td>46.909091</td>\n",
       "      <td>6.509091</td>\n",
       "      <td>0.848069</td>\n",
       "      <td>1829.779069</td>\n",
       "      <td>0.556364</td>\n",
       "      <td>1</td>\n",
       "      <td>1.170909</td>\n",
       "      <td>1153.501042</td>\n",
       "      <td>0.014732</td>\n",
       "      <td>-0.701361</td>\n",
       "      <td>...</td>\n",
       "      <td>464563.971319</td>\n",
       "      <td>11.073545</td>\n",
       "      <td>2.935941e+12</td>\n",
       "      <td>1524554.892312</td>\n",
       "      <td>11.411819</td>\n",
       "      <td>1059990.920993</td>\n",
       "      <td>6.863375e+13</td>\n",
       "      <td>4.112318</td>\n",
       "      <td>7.680000</td>\n",
       "      <td>-463410.470276</td>\n",
       "    </tr>\n",
       "    <tr>\n",
       "      <th>std</th>\n",
       "      <td>13.913015</td>\n",
       "      <td>6.395918</td>\n",
       "      <td>0.431164</td>\n",
       "      <td>3846.069186</td>\n",
       "      <td>1.107170</td>\n",
       "      <td>0</td>\n",
       "      <td>2.568029</td>\n",
       "      <td>2037.491893</td>\n",
       "      <td>2.064053</td>\n",
       "      <td>2.019286</td>\n",
       "      <td>...</td>\n",
       "      <td>1652286.002782</td>\n",
       "      <td>1.657609</td>\n",
       "      <td>2.608155e+13</td>\n",
       "      <td>8157909.742253</td>\n",
       "      <td>1.975617</td>\n",
       "      <td>7222167.003631</td>\n",
       "      <td>6.777258e+14</td>\n",
       "      <td>8.341382</td>\n",
       "      <td>8.289436</td>\n",
       "      <td>1652427.147148</td>\n",
       "    </tr>\n",
       "    <tr>\n",
       "      <th>min</th>\n",
       "      <td>22.000000</td>\n",
       "      <td>0.000000</td>\n",
       "      <td>0.000000</td>\n",
       "      <td>2.485255</td>\n",
       "      <td>0.000000</td>\n",
       "      <td>1</td>\n",
       "      <td>0.000000</td>\n",
       "      <td>1.000000</td>\n",
       "      <td>-2.302585</td>\n",
       "      <td>-2.302585</td>\n",
       "      <td>...</td>\n",
       "      <td>10425.173333</td>\n",
       "      <td>9.251979</td>\n",
       "      <td>1.086842e+08</td>\n",
       "      <td>7399.198995</td>\n",
       "      <td>8.909127</td>\n",
       "      <td>-414136.300470</td>\n",
       "      <td>5.474815e+07</td>\n",
       "      <td>-6.855739</td>\n",
       "      <td>0.000000</td>\n",
       "      <td>-20230781.473322</td>\n",
       "    </tr>\n",
       "    <tr>\n",
       "      <th>25%</th>\n",
       "      <td>35.000000</td>\n",
       "      <td>1.000000</td>\n",
       "      <td>0.613090</td>\n",
       "      <td>30.306443</td>\n",
       "      <td>0.000000</td>\n",
       "      <td>1</td>\n",
       "      <td>0.000000</td>\n",
       "      <td>50.158333</td>\n",
       "      <td>-2.302585</td>\n",
       "      <td>-2.302585</td>\n",
       "      <td>...</td>\n",
       "      <td>20140.713333</td>\n",
       "      <td>9.910484</td>\n",
       "      <td>4.056598e+08</td>\n",
       "      <td>22777.089197</td>\n",
       "      <td>10.033499</td>\n",
       "      <td>0.001301</td>\n",
       "      <td>5.188082e+08</td>\n",
       "      <td>-5.417982</td>\n",
       "      <td>1.000000</td>\n",
       "      <td>-99944.155000</td>\n",
       "    </tr>\n",
       "    <tr>\n",
       "      <th>50%</th>\n",
       "      <td>47.000000</td>\n",
       "      <td>5.000000</td>\n",
       "      <td>0.992782</td>\n",
       "      <td>185.000000</td>\n",
       "      <td>0.000000</td>\n",
       "      <td>1</td>\n",
       "      <td>0.000000</td>\n",
       "      <td>375.080000</td>\n",
       "      <td>0.000000</td>\n",
       "      <td>-2.302585</td>\n",
       "      <td>...</td>\n",
       "      <td>36262.600000</td>\n",
       "      <td>10.498542</td>\n",
       "      <td>1.314976e+09</td>\n",
       "      <td>48747.470987</td>\n",
       "      <td>10.794409</td>\n",
       "      <td>0.010815</td>\n",
       "      <td>2.376316e+09</td>\n",
       "      <td>8.225068</td>\n",
       "      <td>5.000000</td>\n",
       "      <td>-33952.000000</td>\n",
       "    </tr>\n",
       "    <tr>\n",
       "      <th>75%</th>\n",
       "      <td>55.000000</td>\n",
       "      <td>10.000000</td>\n",
       "      <td>1.000000</td>\n",
       "      <td>2063.000000</td>\n",
       "      <td>1.000000</td>\n",
       "      <td>1</td>\n",
       "      <td>1.000000</td>\n",
       "      <td>1469.428333</td>\n",
       "      <td>1.386294</td>\n",
       "      <td>0.000000</td>\n",
       "      <td>...</td>\n",
       "      <td>101426.765000</td>\n",
       "      <td>11.526944</td>\n",
       "      <td>1.029044e+10</td>\n",
       "      <td>153280.428600</td>\n",
       "      <td>11.940017</td>\n",
       "      <td>27989.297161</td>\n",
       "      <td>2.349523e+10</td>\n",
       "      <td>10.949138</td>\n",
       "      <td>12.000000</td>\n",
       "      <td>-18638.235000</td>\n",
       "    </tr>\n",
       "    <tr>\n",
       "      <th>max</th>\n",
       "      <td>94.000000</td>\n",
       "      <td>29.000000</td>\n",
       "      <td>2.494658</td>\n",
       "      <td>32843.000000</td>\n",
       "      <td>6.000000</td>\n",
       "      <td>1</td>\n",
       "      <td>17.000000</td>\n",
       "      <td>13500.000000</td>\n",
       "      <td>4.584967</td>\n",
       "      <td>4.584967</td>\n",
       "      <td>...</td>\n",
       "      <td>20231397.476656</td>\n",
       "      <td>16.822746</td>\n",
       "      <td>4.093094e+14</td>\n",
       "      <td>89603033.703338</td>\n",
       "      <td>18.310900</td>\n",
       "      <td>86860233.604690</td>\n",
       "      <td>8.028704e+15</td>\n",
       "      <td>18.279811</td>\n",
       "      <td>46.000000</td>\n",
       "      <td>-10150.826667</td>\n",
       "    </tr>\n",
       "  </tbody>\n",
       "</table>\n",
       "<p>8 rows × 30 columns</p>\n",
       "</div>"
      ],
      "text/plain": [
       "              age  credit_lines  credit_utilization     debtratio   dep_count  \\\n",
       "count  275.000000    275.000000          275.000000    275.000000  275.000000   \n",
       "mean    46.909091      6.509091            0.848069   1829.779069    0.556364   \n",
       "std     13.913015      6.395918            0.431164   3846.069186    1.107170   \n",
       "min     22.000000      0.000000            0.000000      2.485255    0.000000   \n",
       "25%     35.000000      1.000000            0.613090     30.306443    0.000000   \n",
       "50%     47.000000      5.000000            0.992782    185.000000    0.000000   \n",
       "75%     55.000000     10.000000            1.000000   2063.000000    1.000000   \n",
       "max     94.000000     29.000000            2.494658  32843.000000    6.000000   \n",
       "\n",
       "       dlq  home_lines        income        ln30        ln60       ...         \\\n",
       "count  275  275.000000    275.000000  275.000000  275.000000       ...          \n",
       "mean     1    1.170909   1153.501042    0.014732   -0.701361       ...          \n",
       "std      0    2.568029   2037.491893    2.064053    2.019286       ...          \n",
       "min      1    0.000000      1.000000   -2.302585   -2.302585       ...          \n",
       "25%      1    0.000000     50.158333   -2.302585   -2.302585       ...          \n",
       "50%      1    0.000000    375.080000    0.000000   -2.302585       ...          \n",
       "75%      1    1.000000   1469.428333    1.386294    0.000000       ...          \n",
       "max      1   17.000000  13500.000000    4.584967    4.584967       ...          \n",
       "\n",
       "              expenses  lnExpenses    expenses_2     credit_limit     lnlimit  \\\n",
       "count       275.000000  275.000000  2.750000e+02       275.000000  275.000000   \n",
       "mean     464563.971319   11.073545  2.935941e+12   1524554.892312   11.411819   \n",
       "std     1652286.002782    1.657609  2.608155e+13   8157909.742253    1.975617   \n",
       "min       10425.173333    9.251979  1.086842e+08      7399.198995    8.909127   \n",
       "25%       20140.713333    9.910484  4.056598e+08     22777.089197   10.033499   \n",
       "50%       36262.600000   10.498542  1.314976e+09     48747.470987   10.794409   \n",
       "75%      101426.765000   11.526944  1.029044e+10    153280.428600   11.940017   \n",
       "max    20231397.476656   16.822746  4.093094e+14  89603033.703338   18.310900   \n",
       "\n",
       "           free_credit         lim_2      lnfree  total_lines          savings  \n",
       "count       275.000000  2.750000e+02  224.000000   275.000000       275.000000  \n",
       "mean    1059990.920993  6.863375e+13    4.112318     7.680000   -463410.470276  \n",
       "std     7222167.003631  6.777258e+14    8.341382     8.289436   1652427.147148  \n",
       "min     -414136.300470  5.474815e+07   -6.855739     0.000000 -20230781.473322  \n",
       "25%           0.001301  5.188082e+08   -5.417982     1.000000    -99944.155000  \n",
       "50%           0.010815  2.376316e+09    8.225068     5.000000    -33952.000000  \n",
       "75%       27989.297161  2.349523e+10   10.949138    12.000000    -18638.235000  \n",
       "max    86860233.604690  8.028704e+15   18.279811    46.000000    -10150.826667  \n",
       "\n",
       "[8 rows x 30 columns]"
      ]
     },
     "execution_count": 211,
     "metadata": {},
     "output_type": "execute_result"
    }
   ],
   "source": [
    "train_ii[(train_ii.savings < -1)]"
   ]
  },
  {
   "cell_type": "code",
   "execution_count": 55,
   "metadata": {
    "collapsed": false
   },
   "outputs": [
    {
     "data": {
      "text/plain": [
       "<matplotlib.axes._subplots.AxesSubplot at 0x10fd60710>"
      ]
     },
     "execution_count": 55,
     "metadata": {},
     "output_type": "execute_result"
    },
    {
     "data": {
      "image/png": "[encoded data removed]",
      "text/plain": [
       "<matplotlib.figure.Figure at 0x10fd60150>"
      ]
     },
     "metadata": {},
     "output_type": "display_data"
    }
   ],
   "source": [
    "%matplotlib inline\n",
    "sns.heatmap(train_new.corr())"
   ]
  },
  {
   "cell_type": "code",
   "execution_count": null,
   "metadata": {
    "collapsed": true
   },
   "outputs": [],
   "source": []
  },
  {
   "cell_type": "code",
   "execution_count": 226,
   "metadata": {
    "collapsed": false
   },
   "outputs": [
    {
     "data": {
      "text/plain": [
       "age                      0\n",
       "credit_lines             0\n",
       "credit_utilization       0\n",
       "debtratio                0\n",
       "dep_count                0\n",
       "dlq                      0\n",
       "home_lines               0\n",
       "income                   0\n",
       "ln30                     0\n",
       "ln60                     0\n",
       "ln90                     0\n",
       "lnCredit                 0\n",
       "lnCreditlines            0\n",
       "lnDR                     0\n",
       "lnincome                 0\n",
       "lntotallate              0\n",
       "past_30                  0\n",
       "past_60                  0\n",
       "past_90                  0\n",
       "total_late_days          0\n",
       "expenses                 0\n",
       "lnExpenses               0\n",
       "expenses_2               0\n",
       "credit_limit             0\n",
       "lnlimit                  0\n",
       "free_credit              0\n",
       "lim_2                    0\n",
       "lnfree                3019\n",
       "total_lines              0\n",
       "savings                  0\n",
       "dtype: int64"
      ]
     },
     "execution_count": 226,
     "metadata": {},
     "output_type": "execute_result"
    }
   ],
   "source": [
    "train_ii.isnull().sum()"
   ]
  },
  {
   "cell_type": "code",
   "execution_count": 39,
   "metadata": {
    "collapsed": false
   },
   "outputs": [],
   "source": [
    "from sklearn.preprocessing import StandardScaler\n",
    "scaler = StandardScaler()\n",
    "\n",
    "X = train_ii[['age', 'credit_lines', 'credit_utilization', 'debtratio', 'dep_count', 'home_lines', \n",
    "             'income','lnCredit', 'lnCreditlines', 'lnDR', 'lnincome', 'lntotallate', 'total_late_days',\n",
    "             'lnlimit']]\n",
    "\n",
    "scaler = StandardScaler()\n",
    "X_scaled = scaler.fit_transform(X)"
   ]
  },
  {
   "cell_type": "code",
   "execution_count": 40,
   "metadata": {
    "collapsed": true
   },
   "outputs": [],
   "source": [
    "from sklearn.cluster import KMeans\n",
    "km = KMeans(n_clusters=5, random_state=1)"
   ]
  },
  {
   "cell_type": "code",
   "execution_count": 41,
   "metadata": {
    "collapsed": false
   },
   "outputs": [
    {
     "data": {
      "text/plain": [
       "KMeans(copy_x=True, init='k-means++', max_iter=300, n_clusters=5, n_init=10,\n",
       "    n_jobs=1, precompute_distances=True, random_state=1, tol=0.0001,\n",
       "    verbose=0)"
      ]
     },
     "execution_count": 41,
     "metadata": {},
     "output_type": "execute_result"
    }
   ],
   "source": [
    "km.fit(X_scaled)\n",
    "\n"
   ]
  },
  {
   "cell_type": "code",
   "execution_count": 42,
   "metadata": {
    "collapsed": false
   },
   "outputs": [],
   "source": [
    "train_ii['KMlables'] = km.labels_"
   ]
  },
  {
   "cell_type": "code",
   "execution_count": 43,
   "metadata": {
    "collapsed": true
   },
   "outputs": [],
   "source": [
    "X = test_ii[['age', 'credit_lines', 'credit_utilization', 'debtratio', 'dep_count', 'home_lines', \n",
    "             'income','lnCredit', 'lnCreditlines', 'lnDR', 'lnincome', 'lntotallate', 'total_late_days',\n",
    "             'lnlimit']]\n",
    "\n",
    "scaler = StandardScaler()\n",
    "X_scaled = scaler.fit_transform(X)\n",
    "km.fit(X_scaled)\n",
    "test_ii['KMlables'] = km.labels_\n"
   ]
  },
  {
   "cell_type": "code",
   "execution_count": 44,
   "metadata": {
    "collapsed": true
   },
   "outputs": [],
   "source": [
    "X = train_ii[['age', 'credit_lines', 'credit_utilization', 'debtratio', 'dep_count', 'home_lines', \n",
    "             'income','lnCredit', 'lnCreditlines', 'lnDR', 'lnincome', 'lntotallate', 'total_late_days',\n",
    "             'lnlimit', 'KMlables', 'free_credit',  'lim_2', 'savings']]\n",
    "y = train_ii.dlq\n",
    "X_train, X_test, y_train, y_test = train_test_split(X, y, random_state=1)"
   ]
  },
  {
   "cell_type": "markdown",
   "metadata": {},
   "source": [
    "####Reloading new test/train to CSV to preserve sanciity"
   ]
  },
  {
   "cell_type": "markdown",
   "metadata": {},
   "source": [
    "train_ii.to_csv('train_new.csv')\n",
    "test_ii.to_csv('test_new.csv')"
   ]
  },
  {
   "cell_type": "code",
   "execution_count": 1,
   "metadata": {
    "collapsed": false
   },
   "outputs": [],
   "source": [
    "import pandas as pd\n",
    "train_new = pd.read_table('train_new.csv', sep=',', index_col= 'Unnamed: 0')\n",
    "test_new = pd.read_table('test_new.csv', sep=',', index_col= 'Unnamed: 0')"
   ]
  },
  {
   "cell_type": "code",
   "execution_count": 2,
   "metadata": {
    "collapsed": false
   },
   "outputs": [
    {
     "data": {
      "text/html": [
       "<div>\n",
       "<table border=\"1\" class=\"dataframe\">\n",
       "  <thead>\n",
       "    <tr style=\"text-align: right;\">\n",
       "      <th></th>\n",
       "      <th>age</th>\n",
       "      <th>credit_lines</th>\n",
       "      <th>credit_utilization</th>\n",
       "      <th>debtratio</th>\n",
       "      <th>dep_count</th>\n",
       "      <th>dlq</th>\n",
       "      <th>home_lines</th>\n",
       "      <th>income</th>\n",
       "      <th>ln30</th>\n",
       "      <th>ln60</th>\n",
       "      <th>...</th>\n",
       "      <th>expenses</th>\n",
       "      <th>lnExpenses</th>\n",
       "      <th>expenses_2</th>\n",
       "      <th>credit_limit</th>\n",
       "      <th>lnlimit</th>\n",
       "      <th>free_credit</th>\n",
       "      <th>lim_2</th>\n",
       "      <th>lnfree</th>\n",
       "      <th>savings</th>\n",
       "      <th>KMlables</th>\n",
       "    </tr>\n",
       "  </thead>\n",
       "  <tbody>\n",
       "    <tr>\n",
       "      <th>1</th>\n",
       "      <td>45</td>\n",
       "      <td>13</td>\n",
       "      <td>0.766127</td>\n",
       "      <td>0.802982</td>\n",
       "      <td>2</td>\n",
       "      <td>1</td>\n",
       "      <td>6</td>\n",
       "      <td>9120</td>\n",
       "      <td>0.693147</td>\n",
       "      <td>-2.302585</td>\n",
       "      <td>...</td>\n",
       "      <td>7323.197016</td>\n",
       "      <td>8.898802</td>\n",
       "      <td>53629214.542200</td>\n",
       "      <td>9558.729498</td>\n",
       "      <td>9.165210</td>\n",
       "      <td>2235.532481</td>\n",
       "      <td>91369309.611700</td>\n",
       "      <td>7.712235</td>\n",
       "      <td>1796.802984</td>\n",
       "      <td>0</td>\n",
       "    </tr>\n",
       "    <tr>\n",
       "      <th>2</th>\n",
       "      <td>40</td>\n",
       "      <td>4</td>\n",
       "      <td>0.957151</td>\n",
       "      <td>0.121876</td>\n",
       "      <td>1</td>\n",
       "      <td>0</td>\n",
       "      <td>0</td>\n",
       "      <td>2600</td>\n",
       "      <td>-2.302585</td>\n",
       "      <td>-2.302585</td>\n",
       "      <td>...</td>\n",
       "      <td>316.878123</td>\n",
       "      <td>5.758517</td>\n",
       "      <td>100411.744583</td>\n",
       "      <td>331.063872</td>\n",
       "      <td>5.802311</td>\n",
       "      <td>14.185750</td>\n",
       "      <td>109603.287455</td>\n",
       "      <td>2.652238</td>\n",
       "      <td>2283.121877</td>\n",
       "      <td>2</td>\n",
       "    </tr>\n",
       "    <tr>\n",
       "      <th>3</th>\n",
       "      <td>38</td>\n",
       "      <td>2</td>\n",
       "      <td>0.658180</td>\n",
       "      <td>0.085113</td>\n",
       "      <td>0</td>\n",
       "      <td>0</td>\n",
       "      <td>0</td>\n",
       "      <td>3042</td>\n",
       "      <td>0.000000</td>\n",
       "      <td>-2.302585</td>\n",
       "      <td>...</td>\n",
       "      <td>258.914887</td>\n",
       "      <td>5.556499</td>\n",
       "      <td>67036.918581</td>\n",
       "      <td>393.379975</td>\n",
       "      <td>5.974776</td>\n",
       "      <td>134.465088</td>\n",
       "      <td>154747.804410</td>\n",
       "      <td>4.901305</td>\n",
       "      <td>2783.085113</td>\n",
       "      <td>0</td>\n",
       "    </tr>\n",
       "    <tr>\n",
       "      <th>4</th>\n",
       "      <td>30</td>\n",
       "      <td>5</td>\n",
       "      <td>0.233810</td>\n",
       "      <td>0.036050</td>\n",
       "      <td>0</td>\n",
       "      <td>0</td>\n",
       "      <td>0</td>\n",
       "      <td>3300</td>\n",
       "      <td>-2.302585</td>\n",
       "      <td>-2.302585</td>\n",
       "      <td>...</td>\n",
       "      <td>118.963951</td>\n",
       "      <td>4.778821</td>\n",
       "      <td>14152.421542</td>\n",
       "      <td>508.806572</td>\n",
       "      <td>6.232068</td>\n",
       "      <td>389.842621</td>\n",
       "      <td>258884.127594</td>\n",
       "      <td>5.965743</td>\n",
       "      <td>3181.036049</td>\n",
       "      <td>2</td>\n",
       "    </tr>\n",
       "    <tr>\n",
       "      <th>5</th>\n",
       "      <td>49</td>\n",
       "      <td>7</td>\n",
       "      <td>0.907239</td>\n",
       "      <td>0.024926</td>\n",
       "      <td>0</td>\n",
       "      <td>0</td>\n",
       "      <td>1</td>\n",
       "      <td>63588</td>\n",
       "      <td>0.000000</td>\n",
       "      <td>-2.302585</td>\n",
       "      <td>...</td>\n",
       "      <td>1584.975094</td>\n",
       "      <td>7.368324</td>\n",
       "      <td>2512146.047520</td>\n",
       "      <td>1747.030711</td>\n",
       "      <td>7.465673</td>\n",
       "      <td>162.055617</td>\n",
       "      <td>3052116.303760</td>\n",
       "      <td>5.087940</td>\n",
       "      <td>62003.024906</td>\n",
       "      <td>0</td>\n",
       "    </tr>\n",
       "  </tbody>\n",
       "</table>\n",
       "<p>5 rows × 30 columns</p>\n",
       "</div>"
      ],
      "text/plain": [
       "   age  credit_lines  credit_utilization  debtratio  dep_count  dlq  \\\n",
       "1   45            13            0.766127   0.802982          2    1   \n",
       "2   40             4            0.957151   0.121876          1    0   \n",
       "3   38             2            0.658180   0.085113          0    0   \n",
       "4   30             5            0.233810   0.036050          0    0   \n",
       "5   49             7            0.907239   0.024926          0    0   \n",
       "\n",
       "   home_lines  income      ln30      ln60    ...        expenses  lnExpenses  \\\n",
       "1           6    9120  0.693147 -2.302585    ...     7323.197016    8.898802   \n",
       "2           0    2600 -2.302585 -2.302585    ...      316.878123    5.758517   \n",
       "3           0    3042  0.000000 -2.302585    ...      258.914887    5.556499   \n",
       "4           0    3300 -2.302585 -2.302585    ...      118.963951    4.778821   \n",
       "5           1   63588  0.000000 -2.302585    ...     1584.975094    7.368324   \n",
       "\n",
       "        expenses_2  credit_limit   lnlimit  free_credit            lim_2  \\\n",
       "1  53629214.542200   9558.729498  9.165210  2235.532481  91369309.611700   \n",
       "2    100411.744583    331.063872  5.802311    14.185750    109603.287455   \n",
       "3     67036.918581    393.379975  5.974776   134.465088    154747.804410   \n",
       "4     14152.421542    508.806572  6.232068   389.842621    258884.127594   \n",
       "5   2512146.047520   1747.030711  7.465673   162.055617   3052116.303760   \n",
       "\n",
       "     lnfree       savings  KMlables  \n",
       "1  7.712235   1796.802984         0  \n",
       "2  2.652238   2283.121877         2  \n",
       "3  4.901305   2783.085113         0  \n",
       "4  5.965743   3181.036049         2  \n",
       "5  5.087940  62003.024906         0  \n",
       "\n",
       "[5 rows x 30 columns]"
      ]
     },
     "execution_count": 2,
     "metadata": {},
     "output_type": "execute_result"
    }
   ],
   "source": [
    "train_new.head()"
   ]
  },
  {
   "cell_type": "code",
   "execution_count": 4,
   "metadata": {
    "collapsed": false
   },
   "outputs": [],
   "source": [
    "import numpy as np\n",
    "\n",
    "def take_log(n):\n",
    "    return np.log(n)\n",
    "\n",
    "train_new['lnAge'] = train_new.expenses.replace(to_replace=0, value = 0.1).apply(take_log)\n",
    "test_new['lnAge'] = test_new.expenses.replace(to_replace=0, value = 0.1).apply(take_log)"
   ]
  },
  {
   "cell_type": "markdown",
   "metadata": {},
   "source": [
    "###Stochastic  Gradient Dissent\n"
   ]
  },
  {
   "cell_type": "code",
   "execution_count": 15,
   "metadata": {
    "collapsed": true
   },
   "outputs": [],
   "source": [
    "from sklearn.linear_model import SGDClassifier\n",
    "clf = SGDClassifier(loss=\"log\", penalty=\"l2\")"
   ]
  },
  {
   "cell_type": "code",
   "execution_count": 16,
   "metadata": {
    "collapsed": false
   },
   "outputs": [],
   "source": [
    "from sklearn.cross_validation import train_test_split\n",
    "\n",
    "X = train_new[['age', 'credit_lines', 'credit_utilization', 'debtratio', 'dep_count', 'home_lines', \n",
    "             'income','lnCredit', 'lnCreditlines', 'lnDR', 'lnincome', 'lntotallate', 'total_late_days',\n",
    "             'lnlimit', 'KMlables', 'free_credit',  'lim_2', 'savings']]\n",
    "y = train_new.dlq\n",
    "X_train, X_test, y_train, y_test = train_test_split(X, y, random_state=1)"
   ]
  },
  {
   "cell_type": "code",
   "execution_count": 17,
   "metadata": {
    "collapsed": false
   },
   "outputs": [
    {
     "name": "stdout",
     "output_type": "stream",
     "text": [
      "0.934933333333\n"
     ]
    }
   ],
   "source": [
    "clf.fit(X_train, y_train)\n",
    "\n",
    "y_pred = clf.predict(X_test)\n",
    "\n",
    "from sklearn import metrics\n",
    "print metrics.accuracy_score(y_test, y_pred)"
   ]
  },
  {
   "cell_type": "code",
   "execution_count": 18,
   "metadata": {
    "collapsed": false
   },
   "outputs": [],
   "source": [
    "clf.fit(X, y)\n",
    "\n",
    "X_test = test_new[['age', 'credit_lines', 'credit_utilization', 'debtratio', 'dep_count', 'home_lines', \n",
    "             'income','lnCredit', 'lnCreditlines', 'lnDR', 'lnincome', 'lntotallate', 'total_late_days',\n",
    "             'lnlimit', 'KMlables', 'free_credit',  'lim_2', 'savings']]\n",
    "\n",
    "SGD_pred = clf.predict_proba(X_test)"
   ]
  },
  {
   "cell_type": "markdown",
   "metadata": {},
   "source": [
    "###ADABoost"
   ]
  },
  {
   "cell_type": "code",
   "execution_count": 19,
   "metadata": {
    "collapsed": false
   },
   "outputs": [
    {
     "name": "stdout",
     "output_type": "stream",
     "text": [
      "0.937413333333\n"
     ]
    }
   ],
   "source": [
    "from sklearn.ensemble import AdaBoostClassifier\n",
    "X = train_new[['age', 'credit_lines', 'credit_utilization', 'debtratio', 'dep_count', 'home_lines', \n",
    "             'income','lnCredit', 'lnCreditlines', 'lnDR', 'lnincome', 'lntotallate', 'total_late_days',\n",
    "             'lnlimit', 'KMlables', 'free_credit',  'lim_2', 'savings']]\n",
    "y = train_new.dlq\n",
    "X_train, X_test, y_train, y_test = train_test_split(X, y, random_state=1)\n",
    "\n",
    "adb = AdaBoostClassifier()\n",
    "\n",
    "adb.fit(X_train, y_train)\n",
    "\n",
    "y_pred = adb.predict(X_test)\n",
    "\n",
    "from sklearn import metrics\n",
    "print metrics.accuracy_score(y_test, y_pred)"
   ]
  },
  {
   "cell_type": "code",
   "execution_count": 20,
   "metadata": {
    "collapsed": true
   },
   "outputs": [],
   "source": [
    "adb.fit(X, y)\n",
    "\n",
    "X_test = test_new[['age', 'credit_lines', 'credit_utilization', 'debtratio', 'dep_count', 'home_lines', \n",
    "             'income','lnCredit', 'lnCreditlines', 'lnDR', 'lnincome', 'lntotallate', 'total_late_days',\n",
    "             'lnlimit', 'KMlables', 'free_credit',  'lim_2', 'savings']]\n",
    "\n",
    "ADB_pred = adb.predict_proba(X_test)"
   ]
  },
  {
   "cell_type": "markdown",
   "metadata": {},
   "source": [
    "###Random Forest"
   ]
  },
  {
   "cell_type": "code",
   "execution_count": 24,
   "metadata": {
    "collapsed": false
   },
   "outputs": [
    {
     "name": "stdout",
     "output_type": "stream",
     "text": [
      "0.936106666667\n"
     ]
    }
   ],
   "source": [
    "from sklearn.ensemble import RandomForestClassifier\n",
    "\n",
    "rfclass = RandomForestClassifier(n_estimators=150, max_features=8, oob_score=True, random_state=1)\n",
    "X = train_new[['age', 'credit_lines', 'credit_utilization', 'debtratio', 'dep_count', 'home_lines', \n",
    "             'income','lnCredit', 'lnCreditlines', 'lnDR', 'lnincome', 'lntotallate', 'total_late_days',\n",
    "             'lnlimit', 'KMlables', 'free_credit',  'lim_2', 'savings']]\n",
    "y = train_new.dlq\n",
    "X_train, X_test, y_train, y_test = train_test_split(X, y, random_state=1)\n",
    "\n",
    "rfclass.fit(X_train, y_train)\n",
    "\n",
    "y_pred = rfclass.predict(X_test)\n",
    "\n",
    "from sklearn import metrics\n",
    "print metrics.accuracy_score(y_test, y_pred)\n"
   ]
  },
  {
   "cell_type": "code",
   "execution_count": 25,
   "metadata": {
    "collapsed": true
   },
   "outputs": [],
   "source": [
    "rfclass.fit(X, y)\n",
    "\n",
    "X_test = test_new[['age', 'credit_lines', 'credit_utilization', 'debtratio', 'dep_count', 'home_lines', \n",
    "             'income','lnCredit', 'lnCreditlines', 'lnDR', 'lnincome', 'lntotallate', 'total_late_days',\n",
    "             'lnlimit', 'KMlables', 'free_credit',  'lim_2', 'savings']]\n",
    "\n",
    "RF_pred = rfclass.predict_proba(X_test)"
   ]
  },
  {
   "cell_type": "markdown",
   "metadata": {},
   "source": [
    "###Logistic Regression"
   ]
  },
  {
   "cell_type": "code",
   "execution_count": 27,
   "metadata": {
    "collapsed": false
   },
   "outputs": [
    {
     "name": "stdout",
     "output_type": "stream",
     "text": [
      "0.934933333333\n"
     ]
    }
   ],
   "source": [
    "from sklearn.linear_model import LogisticRegression\n",
    "\n",
    "logreg = LogisticRegression(C=1e9)\n",
    "X = train_new[['age', 'credit_lines', 'credit_utilization', 'debtratio', 'dep_count', 'home_lines', \n",
    "             'income','lnCredit', 'lnCreditlines', 'lnDR', 'lnincome', 'lntotallate', 'total_late_days',\n",
    "             'lnlimit', 'KMlables', 'free_credit',  'lim_2', 'savings']]\n",
    "y = train_new.dlq\n",
    "X_train, X_test, y_train, y_test = train_test_split(X, y, random_state=1)\n",
    "\n",
    "logreg.fit(X_train, y_train)\n",
    "\n",
    "y_pred = logreg.predict(X_test)\n",
    "\n",
    "from sklearn import metrics\n",
    "print metrics.accuracy_score(y_test, y_pred)\n"
   ]
  },
  {
   "cell_type": "code",
   "execution_count": 28,
   "metadata": {
    "collapsed": true
   },
   "outputs": [],
   "source": [
    "logreg.fit(X, y)\n",
    "\n",
    "X_test = test_new[['age', 'credit_lines', 'credit_utilization', 'debtratio', 'dep_count', 'home_lines', \n",
    "             'income','lnCredit', 'lnCreditlines', 'lnDR', 'lnincome', 'lntotallate', 'total_late_days',\n",
    "             'lnlimit', 'KMlables', 'free_credit',  'lim_2', 'savings']]\n",
    "\n",
    "LR_pred = logreg.predict_proba(X_test)"
   ]
  },
  {
   "cell_type": "markdown",
   "metadata": {},
   "source": [
    "###GBM"
   ]
  },
  {
   "cell_type": "code",
   "execution_count": 29,
   "metadata": {
    "collapsed": false
   },
   "outputs": [
    {
     "name": "stdout",
     "output_type": "stream",
     "text": [
      "0.938346666667\n"
     ]
    }
   ],
   "source": [
    "from sklearn.ensemble import GradientBoostingClassifier\n",
    "\n",
    "gbc = GradientBoostingClassifier()\n",
    "\n",
    "X = train_new[['age', 'credit_lines', 'credit_utilization', 'debtratio', 'dep_count', 'home_lines', \n",
    "             'income','lnCredit', 'lnCreditlines', 'lnDR', 'lnincome', 'lntotallate', 'total_late_days',\n",
    "             'lnlimit', 'KMlables', 'free_credit',  'lim_2', 'savings']]\n",
    "y = train_new.dlq\n",
    "X_train, X_test, y_train, y_test = train_test_split(X, y, random_state=1)\n",
    "\n",
    "gbc.fit(X_train, y_train)\n",
    "\n",
    "y_pred = gbc.predict(X_test)\n",
    "\n",
    "print metrics.accuracy_score(y_test, y_pred)\n"
   ]
  },
  {
   "cell_type": "code",
   "execution_count": 30,
   "metadata": {
    "collapsed": true
   },
   "outputs": [],
   "source": [
    "logreg.fit(X, y)\n",
    "\n",
    "X_test = test_new[['age', 'credit_lines', 'credit_utilization', 'debtratio', 'dep_count', 'home_lines', \n",
    "             'income','lnCredit', 'lnCreditlines', 'lnDR', 'lnincome', 'lntotallate', 'total_late_days',\n",
    "             'lnlimit', 'KMlables', 'free_credit',  'lim_2', 'savings']]\n",
    "\n",
    "GBC_pred = gbc.predict_proba(X_test)"
   ]
  },
  {
   "cell_type": "markdown",
   "metadata": {},
   "source": [
    "##Ridge"
   ]
  },
  {
   "cell_type": "code",
   "execution_count": 44,
   "metadata": {
    "collapsed": true
   },
   "outputs": [],
   "source": [
    "from sklearn.svm import LinearSVC"
   ]
  },
  {
   "cell_type": "code",
   "execution_count": null,
   "metadata": {
    "collapsed": true
   },
   "outputs": [],
   "source": [
    "lsvc = LinearSVC()\n",
    "X = train_new[['age', 'credit_lines', 'credit_utilization', 'debtratio', 'dep_count', 'home_lines', \n",
    "             'income','lnCredit', 'lnCreditlines', 'lnDR', 'lnincome', 'lntotallate', 'total_late_days',\n",
    "             'lnlimit', 'KMlables', 'free_credit',  'lim_2', 'savings']]\n",
    "y = train_new.dlq\n",
    "X_train, X_test, y_train, y_test = train_test_split(X, y, random_state=1)\n",
    "\n",
    "rid.fit(X_train, y_train)\n",
    "\n",
    "y_pred = rid.predict(X_test)\n",
    "\n",
    "print metrics.accuracy_score(y_test, y_pred)\n"
   ]
  },
  {
   "cell_type": "code",
   "execution_count": 40,
   "metadata": {
    "collapsed": true
   },
   "outputs": [],
   "source": [
    "y_prob_combined = (GBC_pred[:,1] + LR_pred[:,1] + RF_pred[:,1] + ADB_pred[:,1] + SGD_pred[:,1])/5"
   ]
  },
  {
   "cell_type": "code",
   "execution_count": 42,
   "metadata": {
    "collapsed": false
   },
   "outputs": [],
   "source": [
    "sub = pd.DataFrame({'id':test_new.index, 'Probability':y_prob_combined}).set_index('id')\n",
    "sub.to_csv('sub_ensemble_five.csv')"
   ]
  }
 ],
 "metadata": {
  "kernelspec": {
   "display_name": "Python 2",
   "language": "python",
   "name": "python2"
  },
  "language_info": {
   "codemirror_mode": {
    "name": "ipython",
    "version": 2
   },
   "file_extension": ".py",
   "mimetype": "text/x-python",
   "name": "python",
   "nbconvert_exporter": "python",
   "pygments_lexer": "ipython2",
   "version": "2.7.10"
  }
 },
 "nbformat": 4,
 "nbformat_minor": 0
}
