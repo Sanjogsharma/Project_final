{
 "cells": [
  {
   "cell_type": "markdown",
   "metadata": {},
   "source": [
    "## 1. Show me the Credit\n",
    "\n",
    "- I am completing a (closed) kaggle competetion - show me the credit\n",
    "- The competetion provided two data sets: a test set and and a training set\n",
    "\n",
    "\n"
   ]
  },
  {
   "cell_type": "markdown",
   "metadata": {},
   "source": [
    "### 1.1 Importing packages\n",
    "- I have imported packages I am **definately** using: Pandas(and numpy) to read and examine the data; matplotlib and seaborn to plot\n",
    "- I also know that i'll be using knn to impute values and logistical regression to predict classes "
   ]
  },
  {
   "cell_type": "code",
   "execution_count": 51,
   "metadata": {
    "collapsed": false
   },
   "outputs": [],
   "source": [
    "import pandas as pd\n",
    "import matplotlib.pyplot as plot\n",
    "import seaborn as sns\n",
    "from sklearn.linear_model import LogisticRegression\n",
    "from sklearn.cross_validation import train_test_split\n",
    "import numpy as np\n"
   ]
  },
  {
   "cell_type": "code",
   "execution_count": 52,
   "metadata": {
    "collapsed": true
   },
   "outputs": [],
   "source": [
    "\n",
    "user_cols = ['dlq' , 'credit_utilization', 'age', 'past_30', 'debtratio', \n",
    "             'income', 'credit_lines', 'past_90', 'home_lines',\n",
    "             'past_60', 'dep_count']\n",
    "             "
   ]
  },
  {
   "cell_type": "markdown",
   "metadata": {},
   "source": [
    "In the code block above, I created columns names to replace existing ones. \n",
    "###Variable Name:\n",
    "\n",
    "SeriousDlqin2yrs\n",
    "\n",
    "RevolvingUtilizationOfUnsecuredLines\n",
    "\n",
    "age\n",
    "\n",
    "NumberOfTime30-59DaysPastDueNotWorse\n",
    "\n",
    "DebtRatio\n",
    "\n",
    "MonthlyIncome\n",
    "\n",
    "NumberOfOpenCreditLinesAndLoans\n",
    "\n",
    "NumberOfTimes90DaysLate\n",
    "\n",
    "NumberRealEstateLoansOrLines\n",
    "\n",
    "NumberOfTime60-89DaysPastDueNotWorse\n",
    "\n",
    "NumberOfDependents\n",
    "\n",
    "###Description:\n",
    "\n",
    "Person experienced 90 days past due delinquency or worse \n",
    "\n",
    "Total balance on credit cards and personal lines of credit except real estate and no installment debt like car loans divided by the sum of credit limits\n",
    "\n",
    "Age of borrower in years\n",
    "\n",
    "Number of times borrower has been 30-59 days past due but no worse in the last 2 years.\n",
    "\n",
    "Monthly debt payments, alimony,living costs divided by monthy gross income\n",
    "\n",
    "Monthly income\n",
    "\n",
    "Number of Open loans (installment like car loan or mortgage) and Lines of credit (e.g. credit cards)\n",
    "\n",
    "Number of times borrower has been 90 days or more past due.\n",
    "\n",
    "Number of mortgage and real estate loans including home equity lines of credit\n",
    "\n",
    "Number of times borrower has been 60-89 days past due but no worse in the last 2 years.\n",
    "\n",
    "Number of dependents in family excluding themselves (spouse, children etc.)\n"
   ]
  },
  {
   "cell_type": "code",
   "execution_count": 53,
   "metadata": {
    "collapsed": false
   },
   "outputs": [],
   "source": [
    "training = pd.read_table('cs-training.csv', sep=',', header=False,\\\n",
    " names=user_cols)\n",
    "#read file, changed index, changed names\n",
    " \n",
    "test = pd.read_table('cs-test.csv', sep = ',', header=False,\\\n",
    "names=user_cols)\n"
   ]
  },
  {
   "cell_type": "code",
   "execution_count": 54,
   "metadata": {
    "collapsed": false
   },
   "outputs": [
    {
     "data": {
      "text/plain": [
       "count    150000.000000\n",
       "mean        353.005076\n",
       "std        2037.818523\n",
       "min           0.000000\n",
       "25%           0.175074\n",
       "50%           0.366508\n",
       "75%           0.868254\n",
       "max      329664.000000\n",
       "Name: debtratio, dtype: float64"
      ]
     },
     "execution_count": 54,
     "metadata": {},
     "output_type": "execute_result"
    }
   ],
   "source": [
    "training.debtratio.describe()"
   ]
  },
  {
   "cell_type": "code",
   "execution_count": 6,
   "metadata": {
    "collapsed": false
   },
   "outputs": [],
   "source": [
    "import numpy as np\n",
    "\n",
    "def take_log(n):\n",
    "    return np.log(n)\n",
    "\n",
    "training['lnCredit'] = training.credit_utilization.replace(to_replace=0, value = 0.1).apply(take_log)\n",
    "test['lnCredit'] = test.credit_utilization.replace(to_replace=0, value = 0.1).apply(take_log)\n",
    "\n",
    "training['lnDR'] = training.debtratio.replace(to_replace=0, value = 0.1).apply(take_log)\n",
    "test['lnDR'] = test.debtratio.replace(to_replace=0, value = 0.1).apply(take_log)\n",
    "\n",
    "training['ln30'] = training.past_30.replace(to_replace=0, value = 0.1).apply(take_log)\n",
    "training['ln60'] = training.past_60.replace(to_replace=0, value = 0.1).apply(take_log)\n",
    "training['ln90'] = training.past_90.replace(to_replace=0, value = 0.1).apply(take_log)\n",
    "\n",
    "test['ln30'] = test.past_30.replace(to_replace=0, value = 0.1).apply(take_log)\n",
    "test['ln60'] = test.past_60.replace(to_replace=0, value = 0.1).apply(take_log)\n",
    "test['ln90'] = test.past_90.replace(to_replace=0, value = 0.1).apply(take_log)\n"
   ]
  },
  {
   "cell_type": "markdown",
   "metadata": {},
   "source": [
    "####How each feature relates to the response"
   ]
  },
  {
   "cell_type": "markdown",
   "metadata": {},
   "source": [
    "####Observations: \n",
    "\n",
    "    1) There are a lot of missing values, in income and dependent columns\n",
    "    2) In the following lines of code, I will impute dependent count using sk-learn's imputer, and income using KNN Regressor\n",
    " "
   ]
  },
  {
   "cell_type": "code",
   "execution_count": 7,
   "metadata": {
    "collapsed": false
   },
   "outputs": [],
   "source": [
    "from sklearn.preprocessing import Imputer\n",
    "imp = Imputer(missing_values='NaN', strategy='most_frequent', axis=1)\n",
    "training['dep_count'] = imp.fit_transform(training.dep_count).T\n"
   ]
  },
  {
   "cell_type": "code",
   "execution_count": 8,
   "metadata": {
    "collapsed": false
   },
   "outputs": [
    {
     "name": "stderr",
     "output_type": "stream",
     "text": [
      "/anaconda/lib/python2.7/site-packages/IPython/kernel/__main__.py:2: SettingWithCopyWarning: \n",
      "A value is trying to be set on a copy of a slice from a DataFrame.\n",
      "Try using .loc[row_indexer,col_indexer] = value instead\n",
      "\n",
      "See the the caveats in the documentation: http://pandas.pydata.org/pandas-docs/stable/indexing.html#indexing-view-versus-copy\n",
      "  from IPython.kernel.zmq import kernelapp as app\n"
     ]
    }
   ],
   "source": [
    "training_imp = training.dropna()  \n",
    "training_imp['lnIncome'] = training.income.replace(to_replace=0, value = 0.1).apply(take_log)"
   ]
  },
  {
   "cell_type": "code",
   "execution_count": 9,
   "metadata": {
    "collapsed": false
   },
   "outputs": [],
   "source": [
    "from sklearn import metrics\n",
    "from sklearn.cross_validation import train_test_split\n",
    "from sklearn import neighbors\n",
    "yi = training_imp.income\n",
    "Xi = training_imp[['credit_utilization', 'age', 'debtratio', \n",
    "             'past_90', 'home_lines',\n",
    "             'past_60', 'dep_count', 'ln60', 'ln30', 'ln90', 'lnCredit', 'lnDR', 'lnIncome']]"
   ]
  },
  {
   "cell_type": "code",
   "execution_count": 13,
   "metadata": {
    "collapsed": false
   },
   "outputs": [
    {
     "name": "stdout",
     "output_type": "stream",
     "text": [
      "1553.64369829\n"
     ]
    }
   ],
   "source": [
    "Xi_train, Xi_test, yi_train, yi_test = train_test_split(Xi, yi, \\\n",
    "                                                        test_size=0.4, random_state=4)\n",
    "from sklearn.ensemble import RandomForestRegressor\n",
    "\n",
    "\n",
    "rfreg = RandomForestRegressor(n_estimators=150, max_features=8, oob_score=True, random_state=1)\n",
    "\n",
    "rfreg.fit(Xi_train, yi_train)\n",
    "yi_pred = rfreg.predict(Xi_test)\n",
    "\n",
    "print np.sqrt(metrics.mean_squared_error(yi_test, yi_pred)) #1519 baggedRegressor, vs 14454 with KNN Regressor"
   ]
  },
  {
   "cell_type": "code",
   "execution_count": 14,
   "metadata": {
    "collapsed": false
   },
   "outputs": [],
   "source": [
    "training_null = training[training.income.isnull() == True]"
   ]
  },
  {
   "cell_type": "code",
   "execution_count": 15,
   "metadata": {
    "collapsed": false
   },
   "outputs": [
    {
     "data": {
      "text/plain": [
       "(29731, 16)"
      ]
     },
     "execution_count": 15,
     "metadata": {},
     "output_type": "execute_result"
    }
   ],
   "source": [
    "training_null.shape"
   ]
  },
  {
   "cell_type": "code",
   "execution_count": 16,
   "metadata": {
    "collapsed": true
   },
   "outputs": [],
   "source": [
    "y_null = training_null.income\n",
    "X_null = training_null[['credit_utilization', 'age', 'debtratio', \n",
    "             'past_90', 'home_lines',\n",
    "             'past_60', 'dep_count', 'ln60', 'ln30', 'ln90', 'lnCredit', 'lnDR']]"
   ]
  },
  {
   "cell_type": "code",
   "execution_count": 17,
   "metadata": {
    "collapsed": false
   },
   "outputs": [],
   "source": [
    "Xi = training_imp[['credit_utilization', 'age', 'debtratio', \n",
    "             'past_90', 'home_lines',\n",
    "             'past_60', 'dep_count', 'ln60', 'ln30', 'ln90', 'lnCredit', 'lnDR']]\n",
    "\n",
    "\n",
    "rfreg.fit(Xi, yi)\n",
    "\n",
    "y_null_pred = rfreg.predict(X_null)"
   ]
  },
  {
   "cell_type": "code",
   "execution_count": 18,
   "metadata": {
    "collapsed": false
   },
   "outputs": [],
   "source": [
    "y_null = y_null_pred \n"
   ]
  },
  {
   "cell_type": "code",
   "execution_count": 19,
   "metadata": {
    "collapsed": false,
    "scrolled": true
   },
   "outputs": [
    {
     "name": "stderr",
     "output_type": "stream",
     "text": [
      "//anaconda/lib/python2.7/site-packages/pandas/core/generic.py:2177: SettingWithCopyWarning: \n",
      "A value is trying to be set on a copy of a slice from a DataFrame.\n",
      "Try using .loc[row_indexer,col_indexer] = value instead\n",
      "\n",
      "See the the caveats in the documentation: http://pandas.pydata.org/pandas-docs/stable/indexing.html#indexing-view-versus-copy\n",
      "  self[name] = value\n"
     ]
    }
   ],
   "source": [
    "training_null.income = y_null"
   ]
  },
  {
   "cell_type": "markdown",
   "metadata": {},
   "source": [
    "###The code above did the following:\n",
    "    - Successfully imputed missing dependent counts using Sci-kit learn's impute function(although, that might have been redundant since it imputed 0 - the most frequent value)\n",
    "    - Successfully imputed income using KNN Regressor.\n",
    "    \n",
    "    \n",
    "###The objective of the code following this is to:\n",
    "    - Run and evaluate a Logistical Regression on the now complete training set\n",
    "    - impute missing values in the testing set\n",
    "    - run LR in the training set. \n",
    "    "
   ]
  },
  {
   "cell_type": "code",
   "execution_count": 20,
   "metadata": {
    "collapsed": false
   },
   "outputs": [],
   "source": [
    "training_1 = pd.concat([training_imp, training_null])"
   ]
  },
  {
   "cell_type": "code",
   "execution_count": 21,
   "metadata": {
    "collapsed": false
   },
   "outputs": [],
   "source": [
    "logreg = LogisticRegression(C=1e9)\n",
    "\n",
    "training_1['lnIncome'] = training_1.income.replace(to_replace=0, value = 0.1).apply(take_log)\n",
    "\n",
    "X = training_1[['credit_utilization', 'age', 'debtratio', \n",
    "             'past_90', 'home_lines',\n",
    "             'past_60', 'dep_count', 'ln60', 'ln30', 'ln90', 'lnCredit', 'lnDR', 'lnIncome']]\n",
    "y = training_1.dlq"
   ]
  },
  {
   "cell_type": "code",
   "execution_count": 24,
   "metadata": {
    "collapsed": false
   },
   "outputs": [
    {
     "data": {
      "text/plain": [
       "0.84927542723025784"
      ]
     },
     "execution_count": 24,
     "metadata": {},
     "output_type": "execute_result"
    }
   ],
   "source": [
    "from sklearn.cross_validation import cross_val_score\n",
    "cross_val_score(logreg, X, y, cv=10, scoring='roc_auc').mean()\n",
    "\n",
    "#vanilla .695\n",
    "# better income: .849"
   ]
  },
  {
   "cell_type": "markdown",
   "metadata": {},
   "source": [
    "###Imputing missing values in the testing set"
   ]
  },
  {
   "cell_type": "code",
   "execution_count": 22,
   "metadata": {
    "collapsed": false
   },
   "outputs": [
    {
     "data": {
      "text/plain": [
       "dlq                   101503\n",
       "credit_utilization         0\n",
       "age                        0\n",
       "past_30                    0\n",
       "debtratio                  0\n",
       "income                 20103\n",
       "credit_lines               0\n",
       "past_90                    0\n",
       "home_lines                 0\n",
       "past_60                    0\n",
       "dep_count               2626\n",
       "lnCredit                   0\n",
       "lnDR                       0\n",
       "ln30                       0\n",
       "ln60                       0\n",
       "ln90                       0\n",
       "dtype: int64"
      ]
     },
     "execution_count": 22,
     "metadata": {},
     "output_type": "execute_result"
    }
   ],
   "source": [
    "test.isnull().sum()"
   ]
  },
  {
   "cell_type": "code",
   "execution_count": 23,
   "metadata": {
    "collapsed": false
   },
   "outputs": [],
   "source": [
    "test['dep_count'] = imp.fit_transform(test.dep_count).T"
   ]
  },
  {
   "cell_type": "markdown",
   "metadata": {},
   "source": [
    "imputed dep counts, need to impute income"
   ]
  },
  {
   "cell_type": "code",
   "execution_count": 24,
   "metadata": {
    "collapsed": false
   },
   "outputs": [],
   "source": [
    "test_null = test[test.income.isnull() == True]\n"
   ]
  },
  {
   "cell_type": "code",
   "execution_count": 25,
   "metadata": {
    "collapsed": false
   },
   "outputs": [
    {
     "data": {
      "text/html": [
       "<div>\n",
       "<table border=\"1\" class=\"dataframe\">\n",
       "  <thead>\n",
       "    <tr style=\"text-align: right;\">\n",
       "      <th></th>\n",
       "      <th>dlq</th>\n",
       "      <th>credit_utilization</th>\n",
       "      <th>age</th>\n",
       "      <th>past_30</th>\n",
       "      <th>debtratio</th>\n",
       "      <th>income</th>\n",
       "      <th>credit_lines</th>\n",
       "      <th>past_90</th>\n",
       "      <th>home_lines</th>\n",
       "      <th>past_60</th>\n",
       "      <th>dep_count</th>\n",
       "      <th>lnCredit</th>\n",
       "      <th>lnDR</th>\n",
       "      <th>ln30</th>\n",
       "      <th>ln60</th>\n",
       "      <th>ln90</th>\n",
       "    </tr>\n",
       "  </thead>\n",
       "  <tbody>\n",
       "    <tr>\n",
       "      <th>1</th>\n",
       "      <td>NaN</td>\n",
       "      <td>0.885519</td>\n",
       "      <td>43</td>\n",
       "      <td>0</td>\n",
       "      <td>0.177513</td>\n",
       "      <td>5700</td>\n",
       "      <td>4</td>\n",
       "      <td>0</td>\n",
       "      <td>0</td>\n",
       "      <td>0</td>\n",
       "      <td>0</td>\n",
       "      <td>-1.215813e-01</td>\n",
       "      <td>-1.728713</td>\n",
       "      <td>-2.302585</td>\n",
       "      <td>-2.302585</td>\n",
       "      <td>-2.302585</td>\n",
       "    </tr>\n",
       "    <tr>\n",
       "      <th>2</th>\n",
       "      <td>NaN</td>\n",
       "      <td>0.463295</td>\n",
       "      <td>57</td>\n",
       "      <td>0</td>\n",
       "      <td>0.527237</td>\n",
       "      <td>9141</td>\n",
       "      <td>15</td>\n",
       "      <td>0</td>\n",
       "      <td>4</td>\n",
       "      <td>0</td>\n",
       "      <td>2</td>\n",
       "      <td>-7.693907e-01</td>\n",
       "      <td>-0.640105</td>\n",
       "      <td>-2.302585</td>\n",
       "      <td>-2.302585</td>\n",
       "      <td>-2.302585</td>\n",
       "    </tr>\n",
       "    <tr>\n",
       "      <th>3</th>\n",
       "      <td>NaN</td>\n",
       "      <td>0.043275</td>\n",
       "      <td>59</td>\n",
       "      <td>0</td>\n",
       "      <td>0.687648</td>\n",
       "      <td>5083</td>\n",
       "      <td>12</td>\n",
       "      <td>0</td>\n",
       "      <td>1</td>\n",
       "      <td>0</td>\n",
       "      <td>2</td>\n",
       "      <td>-3.140179e+00</td>\n",
       "      <td>-0.374479</td>\n",
       "      <td>-2.302585</td>\n",
       "      <td>-2.302585</td>\n",
       "      <td>-2.302585</td>\n",
       "    </tr>\n",
       "    <tr>\n",
       "      <th>4</th>\n",
       "      <td>NaN</td>\n",
       "      <td>0.280308</td>\n",
       "      <td>38</td>\n",
       "      <td>1</td>\n",
       "      <td>0.925961</td>\n",
       "      <td>3200</td>\n",
       "      <td>7</td>\n",
       "      <td>0</td>\n",
       "      <td>2</td>\n",
       "      <td>0</td>\n",
       "      <td>0</td>\n",
       "      <td>-1.271865e+00</td>\n",
       "      <td>-0.076924</td>\n",
       "      <td>0.000000</td>\n",
       "      <td>-2.302585</td>\n",
       "      <td>-2.302585</td>\n",
       "    </tr>\n",
       "    <tr>\n",
       "      <th>5</th>\n",
       "      <td>NaN</td>\n",
       "      <td>1.000000</td>\n",
       "      <td>27</td>\n",
       "      <td>0</td>\n",
       "      <td>0.019917</td>\n",
       "      <td>3865</td>\n",
       "      <td>4</td>\n",
       "      <td>0</td>\n",
       "      <td>0</td>\n",
       "      <td>0</td>\n",
       "      <td>1</td>\n",
       "      <td>-1.000000e-07</td>\n",
       "      <td>-3.916170</td>\n",
       "      <td>-2.302585</td>\n",
       "      <td>-2.302585</td>\n",
       "      <td>-2.302585</td>\n",
       "    </tr>\n",
       "  </tbody>\n",
       "</table>\n",
       "</div>"
      ],
      "text/plain": [
       "   dlq  credit_utilization  age  past_30  debtratio  income  credit_lines  \\\n",
       "1  NaN            0.885519   43        0   0.177513    5700             4   \n",
       "2  NaN            0.463295   57        0   0.527237    9141            15   \n",
       "3  NaN            0.043275   59        0   0.687648    5083            12   \n",
       "4  NaN            0.280308   38        1   0.925961    3200             7   \n",
       "5  NaN            1.000000   27        0   0.019917    3865             4   \n",
       "\n",
       "   past_90  home_lines  past_60  dep_count      lnCredit      lnDR      ln30  \\\n",
       "1        0           0        0          0 -1.215813e-01 -1.728713 -2.302585   \n",
       "2        0           4        0          2 -7.693907e-01 -0.640105 -2.302585   \n",
       "3        0           1        0          2 -3.140179e+00 -0.374479 -2.302585   \n",
       "4        0           2        0          0 -1.271865e+00 -0.076924  0.000000   \n",
       "5        0           0        0          1 -1.000000e-07 -3.916170 -2.302585   \n",
       "\n",
       "       ln60      ln90  \n",
       "1 -2.302585 -2.302585  \n",
       "2 -2.302585 -2.302585  \n",
       "3 -2.302585 -2.302585  \n",
       "4 -2.302585 -2.302585  \n",
       "5 -2.302585 -2.302585  "
      ]
     },
     "execution_count": 25,
     "metadata": {},
     "output_type": "execute_result"
    }
   ],
   "source": [
    "test.head()"
   ]
  },
  {
   "cell_type": "code",
   "execution_count": 26,
   "metadata": {
    "collapsed": false
   },
   "outputs": [],
   "source": [
    "test_1 = test.loc[:, 'credit_utilization' : 'ln90']"
   ]
  },
  {
   "cell_type": "code",
   "execution_count": 27,
   "metadata": {
    "collapsed": false
   },
   "outputs": [
    {
     "data": {
      "text/plain": [
       "credit_utilization        0\n",
       "age                       0\n",
       "past_30                   0\n",
       "debtratio                 0\n",
       "income                20103\n",
       "credit_lines              0\n",
       "past_90                   0\n",
       "home_lines                0\n",
       "past_60                   0\n",
       "dep_count                 0\n",
       "lnCredit                  0\n",
       "lnDR                      0\n",
       "ln30                      0\n",
       "ln60                      0\n",
       "ln90                      0\n",
       "dtype: int64"
      ]
     },
     "execution_count": 27,
     "metadata": {},
     "output_type": "execute_result"
    }
   ],
   "source": [
    "test_1.isnull().sum()"
   ]
  },
  {
   "cell_type": "code",
   "execution_count": 28,
   "metadata": {
    "collapsed": false
   },
   "outputs": [],
   "source": [
    "test_imp = test_1.dropna()"
   ]
  },
  {
   "cell_type": "code",
   "execution_count": 29,
   "metadata": {
    "collapsed": false
   },
   "outputs": [
    {
     "data": {
      "text/plain": [
       "(81400, 15)"
      ]
     },
     "execution_count": 29,
     "metadata": {},
     "output_type": "execute_result"
    }
   ],
   "source": [
    "test_imp.shape #successfully seperated all null incomes, to impute tthem"
   ]
  },
  {
   "cell_type": "code",
   "execution_count": 30,
   "metadata": {
    "collapsed": false
   },
   "outputs": [
    {
     "name": "stderr",
     "output_type": "stream",
     "text": [
      "/anaconda/lib/python2.7/site-packages/IPython/kernel/__main__.py:1: SettingWithCopyWarning: \n",
      "A value is trying to be set on a copy of a slice from a DataFrame.\n",
      "Try using .loc[row_indexer,col_indexer] = value instead\n",
      "\n",
      "See the the caveats in the documentation: http://pandas.pydata.org/pandas-docs/stable/indexing.html#indexing-view-versus-copy\n",
      "  if __name__ == '__main__':\n"
     ]
    }
   ],
   "source": [
    "test_imp['lnIncome'] = test.income.replace(to_replace=0, value = 0.1).apply(take_log)\n",
    "\n",
    "yj = test_imp.income\n",
    "Xj = test_imp[['credit_utilization', 'age', 'debtratio', \n",
    "             'past_90', 'home_lines',\n",
    "             'past_60', 'dep_count', 'ln60', 'ln30', 'ln90', 'lnCredit', 'lnDR']]\n",
    "\n",
    "\n",
    "\n",
    "Xj_null = test_null[['credit_utilization', 'age', 'debtratio', \n",
    "             'past_90', 'home_lines',\n",
    "             'past_60', 'dep_count', 'ln60', 'ln30', 'ln90', 'lnCredit', 'lnDR']]\n",
    "\n",
    "\n",
    "\n",
    "rfreg.fit(Xj, yj)\n",
    "\n",
    "y_null_pred = rfreg.predict(Xj_null)\n"
   ]
  },
  {
   "cell_type": "code",
   "execution_count": 31,
   "metadata": {
    "collapsed": false
   },
   "outputs": [],
   "source": [
    "test_null.income = y_null_pred"
   ]
  },
  {
   "cell_type": "code",
   "execution_count": 32,
   "metadata": {
    "collapsed": true
   },
   "outputs": [],
   "source": [
    "test_1 = pd.concat([test_imp, test_null])"
   ]
  },
  {
   "cell_type": "code",
   "execution_count": 33,
   "metadata": {
    "collapsed": false
   },
   "outputs": [
    {
     "data": {
      "text/plain": [
       "(101503, 17)"
      ]
     },
     "execution_count": 33,
     "metadata": {},
     "output_type": "execute_result"
    }
   ],
   "source": [
    "test_1.shape # shape looks correct"
   ]
  },
  {
   "cell_type": "code",
   "execution_count": 34,
   "metadata": {
    "collapsed": true
   },
   "outputs": [],
   "source": [
    "test_1['lnIncome'] = test_1.income.replace(to_replace=0, value = 0.1).apply(take_log)"
   ]
  },
  {
   "cell_type": "code",
   "execution_count": 36,
   "metadata": {
    "collapsed": true
   },
   "outputs": [],
   "source": [
    "from sklearn.ensemble import RandomForestClassifier\n",
    "\n",
    "rfclass = RandomForestClassifier(n_estimators=150, max_features=8, oob_score=True, random_state=1)"
   ]
  },
  {
   "cell_type": "code",
   "execution_count": 46,
   "metadata": {
    "collapsed": false
   },
   "outputs": [],
   "source": [
    "refclass = RandomForestClassifier(n_estimators = 100, max_features=8, oob_score=True, random_state=1)\n",
    "refclass.fit(X, y)\n",
    "\n",
    "Xii = test_1[['credit_utilization', 'age', 'debtratio', \n",
    "             'past_90', 'home_lines',\n",
    "             'past_60', 'dep_count', 'ln60', 'ln30', 'ln90', 'lnCredit', 'lnDR', 'lnIncome']]\n",
    "\n",
    "first_prediction = refclass.predict_proba(Xii)[:, 1]"
   ]
  },
  {
   "cell_type": "code",
   "execution_count": 45,
   "metadata": {
    "collapsed": false
   },
   "outputs": [],
   "source": [
    "sub = pd.DataFrame({'id':test_1.index, 'Probability':first_prediction}).set_index('id')\n",
    "sub.to_csv('sub_rf.csv')"
   ]
  },
  {
   "cell_type": "code",
   "execution_count": 47,
   "metadata": {
    "collapsed": true
   },
   "outputs": [],
   "source": [
    "sub_test = pd.DataFrame({\n",
    "                        'income':test_1.income, })"
   ]
  },
  {
   "cell_type": "code",
   "execution_count": 49,
   "metadata": {
    "collapsed": false
   },
   "outputs": [],
   "source": [
    "sub_train = pd.DataFrame({'income':training_1.income, })\n",
    "\n",
    "sub_train.to_csv('train_clean_1.csv')"
   ]
  },
  {
   "cell_type": "code",
   "execution_count": 50,
   "metadata": {
    "collapsed": false
   },
   "outputs": [],
   "source": [
    "sub_test.to_csv('test_clean_1.csv')"
   ]
  },
  {
   "cell_type": "code",
   "execution_count": 2,
   "metadata": {
    "collapsed": false
   },
   "outputs": [
    {
     "ename": "NameError",
     "evalue": "name 'sub_train' is not defined",
     "output_type": "error",
     "traceback": [
      "\u001b[0;31m---------------------------------------------------------------------------\u001b[0m",
      "\u001b[0;31mNameError\u001b[0m                                 Traceback (most recent call last)",
      "\u001b[0;32m<ipython-input-2-d3fee6dc5349>\u001b[0m in \u001b[0;36m<module>\u001b[0;34m()\u001b[0m\n\u001b[0;32m----> 1\u001b[0;31m \u001b[0msub_train\u001b[0m\u001b[0;34m.\u001b[0m\u001b[0mhead\u001b[0m\u001b[0;34m(\u001b[0m\u001b[0;34m)\u001b[0m\u001b[0;34m\u001b[0m\u001b[0m\n\u001b[0m",
      "\u001b[0;31mNameError\u001b[0m: name 'sub_train' is not defined"
     ]
    }
   ],
   "source": [
    "sub_train.head()"
   ]
  }
 ],
 "metadata": {
  "kernelspec": {
   "display_name": "Python 2",
   "language": "python",
   "name": "python2"
  },
  "language_info": {
   "codemirror_mode": {
    "name": "ipython",
    "version": 2
   },
   "file_extension": ".py",
   "mimetype": "text/x-python",
   "name": "python",
   "nbconvert_exporter": "python",
   "pygments_lexer": "ipython2",
   "version": "2.7.10"
  }
 },
 "nbformat": 4,
 "nbformat_minor": 0
}
